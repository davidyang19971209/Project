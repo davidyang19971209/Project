{
  "nbformat": 4,
  "nbformat_minor": 0,
  "metadata": {
    "colab": {
      "name": "Unet_with_Dissection5",
      "provenance": [],
      "collapsed_sections": [],
      "toc_visible": true,
      "machine_shape": "hm"
    },
    "kernelspec": {
      "name": "python3",
      "display_name": "Python 3"
    },
    "accelerator": "GPU"
  },
  "cells": [
    {
      "cell_type": "code",
      "metadata": {
        "id": "9tvye23N01ko",
        "colab_type": "code",
        "outputId": "a4b3d07f-a30e-4e9b-b682-a20ca70562f9",
        "colab": {
          "base_uri": "https://localhost:8080/",
          "height": 235
        }
      },
      "source": [
        "!apt-get install -y -qq software-properties-common python-software-properties module-init-tools\n",
        "!add-apt-repository -y ppa:alessandro-strada/ppa 2>&1 > /dev/null\n",
        "!apt-get update -qq 2>&1 > /dev/null\n",
        "!apt-get -y install -qq google-drive-ocamlfuse fuse\n",
        "from google.colab import auth\n",
        "auth.authenticate_user()\n",
        "from oauth2client.client import GoogleCredentials\n",
        "creds = GoogleCredentials.get_application_default()\n",
        "import getpass\n",
        "!google-drive-ocamlfuse -headless -id={creds.client_id} -secret={creds.client_secret} < /dev/null 2>&1 | grep URL\n",
        "vcode = getpass.getpass()\n",
        "!echo {vcode} | google-drive-ocamlfuse -headless -id={creds.client_id} -secret={creds.client_secret}\n"
      ],
      "execution_count": 0,
      "outputs": [
        {
          "output_type": "stream",
          "text": [
            "E: Package 'python-software-properties' has no installation candidate\n",
            "Selecting previously unselected package google-drive-ocamlfuse.\n",
            "(Reading database ... 144568 files and directories currently installed.)\n",
            "Preparing to unpack .../google-drive-ocamlfuse_0.7.19-0ubuntu1~ubuntu18.04.1_amd64.deb ...\n",
            "Unpacking google-drive-ocamlfuse (0.7.19-0ubuntu1~ubuntu18.04.1) ...\n",
            "Setting up google-drive-ocamlfuse (0.7.19-0ubuntu1~ubuntu18.04.1) ...\n",
            "Processing triggers for man-db (2.8.3-2ubuntu0.1) ...\n",
            "Please, open the following URL in a web browser: https://accounts.google.com/o/oauth2/auth?client_id=32555940559.apps.googleusercontent.com&redirect_uri=urn%3Aietf%3Awg%3Aoauth%3A2.0%3Aoob&scope=https%3A%2F%2Fwww.googleapis.com%2Fauth%2Fdrive&response_type=code&access_type=offline&approval_prompt=force\n",
            "··········\n",
            "Please, open the following URL in a web browser: https://accounts.google.com/o/oauth2/auth?client_id=32555940559.apps.googleusercontent.com&redirect_uri=urn%3Aietf%3Awg%3Aoauth%3A2.0%3Aoob&scope=https%3A%2F%2Fwww.googleapis.com%2Fauth%2Fdrive&response_type=code&access_type=offline&approval_prompt=force\n",
            "Please enter the verification code: Access token retrieved correctly.\n"
          ],
          "name": "stdout"
        }
      ]
    },
    {
      "cell_type": "markdown",
      "metadata": {
        "id": "RbeFEtnzFcKB",
        "colab_type": "text"
      },
      "source": [
        "# before coding\n"
      ]
    },
    {
      "cell_type": "markdown",
      "metadata": {
        "id": "K4Dz-UxsF4fy",
        "colab_type": "text"
      },
      "source": [
        "## 安装谷歌网盘"
      ]
    },
    {
      "cell_type": "code",
      "metadata": {
        "id": "NUXPieW61XZ4",
        "colab_type": "code",
        "outputId": "90d5b50d-60a4-4399-cc1f-7975323d6a85",
        "colab": {
          "base_uri": "https://localhost:8080/",
          "height": 35
        }
      },
      "source": [
        "!mkdir -p drive\n",
        "!google-drive-ocamlfuse drive  -o nonempty"
      ],
      "execution_count": 1,
      "outputs": [
        {
          "output_type": "stream",
          "text": [
            "/bin/bash: google-drive-ocamlfuse: command not found\n"
          ],
          "name": "stdout"
        }
      ]
    },
    {
      "cell_type": "markdown",
      "metadata": {
        "id": "IktZAA7CFk8O",
        "colab_type": "text"
      },
      "source": [
        "## 安装关联库"
      ]
    },
    {
      "cell_type": "code",
      "metadata": {
        "id": "JqV51F4-jq2w",
        "colab_type": "code",
        "outputId": "aff1f29d-dd7b-43a1-9fd1-cdb70ce43063",
        "colab": {
          "base_uri": "https://localhost:8080/",
          "height": 1000
        }
      },
      "source": [
        "!pip install numpy==1.16.2\n",
        "!pip install tensorflow==1.12.2\n",
        "!pip install scikit-learn==0.20.3\n",
        "!pip install scikit-image==0.14.2\n",
        "!pip install imageio==2.5.0\n",
        "!pip install medpy==0.4.0\n",
        "!pip install Pillow==6.0.0\n",
        "!pip install scipy==1.2.1\n",
        "!pip install pandas==0.24.2\n",
        "!pip install tqdm==4.32.1\n"
      ],
      "execution_count": 1,
      "outputs": [
        {
          "output_type": "stream",
          "text": [
            "Requirement already satisfied: numpy==1.16.2 in /usr/local/lib/python3.6/dist-packages (1.16.2)\n",
            "Requirement already satisfied: tensorflow==1.12.2 in /usr/local/lib/python3.6/dist-packages (1.12.2)\n",
            "Requirement already satisfied: gast>=0.2.0 in /usr/local/lib/python3.6/dist-packages (from tensorflow==1.12.2) (0.3.3)\n",
            "Requirement already satisfied: astor>=0.6.0 in /usr/local/lib/python3.6/dist-packages (from tensorflow==1.12.2) (0.8.1)\n",
            "Requirement already satisfied: tensorboard<1.13.0,>=1.12.0 in /usr/local/lib/python3.6/dist-packages (from tensorflow==1.12.2) (1.12.2)\n",
            "Requirement already satisfied: keras-preprocessing>=1.0.5 in /usr/local/lib/python3.6/dist-packages (from tensorflow==1.12.2) (1.1.2)\n",
            "Requirement already satisfied: keras-applications>=1.0.6 in /usr/local/lib/python3.6/dist-packages (from tensorflow==1.12.2) (1.0.8)\n",
            "Requirement already satisfied: absl-py>=0.1.6 in /usr/local/lib/python3.6/dist-packages (from tensorflow==1.12.2) (0.9.0)\n",
            "Requirement already satisfied: termcolor>=1.1.0 in /usr/local/lib/python3.6/dist-packages (from tensorflow==1.12.2) (1.1.0)\n",
            "Requirement already satisfied: grpcio>=1.8.6 in /usr/local/lib/python3.6/dist-packages (from tensorflow==1.12.2) (1.29.0)\n",
            "Requirement already satisfied: numpy>=1.13.3 in /usr/local/lib/python3.6/dist-packages (from tensorflow==1.12.2) (1.16.2)\n",
            "Requirement already satisfied: wheel>=0.26 in /usr/local/lib/python3.6/dist-packages (from tensorflow==1.12.2) (0.34.2)\n",
            "Requirement already satisfied: protobuf>=3.6.1 in /usr/local/lib/python3.6/dist-packages (from tensorflow==1.12.2) (3.10.0)\n",
            "Requirement already satisfied: six>=1.10.0 in /usr/local/lib/python3.6/dist-packages (from tensorflow==1.12.2) (1.12.0)\n",
            "Requirement already satisfied: werkzeug>=0.11.10 in /usr/local/lib/python3.6/dist-packages (from tensorboard<1.13.0,>=1.12.0->tensorflow==1.12.2) (1.0.1)\n",
            "Requirement already satisfied: markdown>=2.6.8 in /usr/local/lib/python3.6/dist-packages (from tensorboard<1.13.0,>=1.12.0->tensorflow==1.12.2) (3.2.2)\n",
            "Requirement already satisfied: h5py in /usr/local/lib/python3.6/dist-packages (from keras-applications>=1.0.6->tensorflow==1.12.2) (2.10.0)\n",
            "Requirement already satisfied: setuptools in /usr/local/lib/python3.6/dist-packages (from protobuf>=3.6.1->tensorflow==1.12.2) (47.1.1)\n",
            "Requirement already satisfied: importlib-metadata; python_version < \"3.8\" in /usr/local/lib/python3.6/dist-packages (from markdown>=2.6.8->tensorboard<1.13.0,>=1.12.0->tensorflow==1.12.2) (1.6.0)\n",
            "Requirement already satisfied: zipp>=0.5 in /usr/local/lib/python3.6/dist-packages (from importlib-metadata; python_version < \"3.8\"->markdown>=2.6.8->tensorboard<1.13.0,>=1.12.0->tensorflow==1.12.2) (3.1.0)\n",
            "Requirement already satisfied: scikit-learn==0.20.3 in /usr/local/lib/python3.6/dist-packages (0.20.3)\n",
            "Requirement already satisfied: numpy>=1.8.2 in /usr/local/lib/python3.6/dist-packages (from scikit-learn==0.20.3) (1.16.2)\n",
            "Requirement already satisfied: scipy>=0.13.3 in /usr/local/lib/python3.6/dist-packages (from scikit-learn==0.20.3) (1.2.1)\n",
            "Requirement already satisfied: scikit-image==0.14.2 in /usr/local/lib/python3.6/dist-packages (0.14.2)\n",
            "Requirement already satisfied: networkx>=1.8 in /usr/local/lib/python3.6/dist-packages (from scikit-image==0.14.2) (2.4)\n",
            "Requirement already satisfied: pillow>=4.3.0 in /usr/local/lib/python3.6/dist-packages (from scikit-image==0.14.2) (6.0.0)\n",
            "Requirement already satisfied: matplotlib>=2.0.0 in /usr/local/lib/python3.6/dist-packages (from scikit-image==0.14.2) (3.2.1)\n",
            "Requirement already satisfied: PyWavelets>=0.4.0 in /usr/local/lib/python3.6/dist-packages (from scikit-image==0.14.2) (1.1.1)\n",
            "Requirement already satisfied: cloudpickle>=0.2.1 in /usr/local/lib/python3.6/dist-packages (from scikit-image==0.14.2) (1.3.0)\n",
            "Requirement already satisfied: dask[array]>=1.0.0 in /usr/local/lib/python3.6/dist-packages (from scikit-image==0.14.2) (2.12.0)\n",
            "Requirement already satisfied: six>=1.10.0 in /usr/local/lib/python3.6/dist-packages (from scikit-image==0.14.2) (1.12.0)\n",
            "Requirement already satisfied: scipy>=0.17.0 in /usr/local/lib/python3.6/dist-packages (from scikit-image==0.14.2) (1.2.1)\n",
            "Requirement already satisfied: decorator>=4.3.0 in /usr/local/lib/python3.6/dist-packages (from networkx>=1.8->scikit-image==0.14.2) (4.4.2)\n",
            "Requirement already satisfied: numpy>=1.11 in /usr/local/lib/python3.6/dist-packages (from matplotlib>=2.0.0->scikit-image==0.14.2) (1.16.2)\n",
            "Requirement already satisfied: pyparsing!=2.0.4,!=2.1.2,!=2.1.6,>=2.0.1 in /usr/local/lib/python3.6/dist-packages (from matplotlib>=2.0.0->scikit-image==0.14.2) (2.4.7)\n",
            "Requirement already satisfied: cycler>=0.10 in /usr/local/lib/python3.6/dist-packages (from matplotlib>=2.0.0->scikit-image==0.14.2) (0.10.0)\n",
            "Requirement already satisfied: kiwisolver>=1.0.1 in /usr/local/lib/python3.6/dist-packages (from matplotlib>=2.0.0->scikit-image==0.14.2) (1.2.0)\n",
            "Requirement already satisfied: python-dateutil>=2.1 in /usr/local/lib/python3.6/dist-packages (from matplotlib>=2.0.0->scikit-image==0.14.2) (2.8.1)\n",
            "Requirement already satisfied: toolz>=0.7.3; extra == \"array\" in /usr/local/lib/python3.6/dist-packages (from dask[array]>=1.0.0->scikit-image==0.14.2) (0.10.0)\n",
            "Requirement already satisfied: imageio==2.5.0 in /usr/local/lib/python3.6/dist-packages (2.5.0)\n",
            "Requirement already satisfied: numpy in /usr/local/lib/python3.6/dist-packages (from imageio==2.5.0) (1.16.2)\n",
            "Requirement already satisfied: pillow in /usr/local/lib/python3.6/dist-packages (from imageio==2.5.0) (6.0.0)\n",
            "Requirement already satisfied: medpy==0.4.0 in /usr/local/lib/python3.6/dist-packages (0.4.0)\n",
            "Requirement already satisfied: scipy>=1.1.0 in /usr/local/lib/python3.6/dist-packages (from medpy==0.4.0) (1.2.1)\n",
            "Requirement already satisfied: SimpleITK>=1.1.0 in /usr/local/lib/python3.6/dist-packages (from medpy==0.4.0) (1.2.4)\n",
            "Requirement already satisfied: numpy>=1.11.0 in /usr/local/lib/python3.6/dist-packages (from medpy==0.4.0) (1.16.2)\n",
            "Requirement already satisfied: Pillow==6.0.0 in /usr/local/lib/python3.6/dist-packages (6.0.0)\n",
            "Requirement already satisfied: scipy==1.2.1 in /usr/local/lib/python3.6/dist-packages (1.2.1)\n",
            "Requirement already satisfied: numpy>=1.8.2 in /usr/local/lib/python3.6/dist-packages (from scipy==1.2.1) (1.16.2)\n",
            "Requirement already satisfied: pandas==0.24.2 in /usr/local/lib/python3.6/dist-packages (0.24.2)\n",
            "Requirement already satisfied: python-dateutil>=2.5.0 in /usr/local/lib/python3.6/dist-packages (from pandas==0.24.2) (2.8.1)\n",
            "Requirement already satisfied: numpy>=1.12.0 in /usr/local/lib/python3.6/dist-packages (from pandas==0.24.2) (1.16.2)\n",
            "Requirement already satisfied: pytz>=2011k in /usr/local/lib/python3.6/dist-packages (from pandas==0.24.2) (2018.9)\n",
            "Requirement already satisfied: six>=1.5 in /usr/local/lib/python3.6/dist-packages (from python-dateutil>=2.5.0->pandas==0.24.2) (1.12.0)\n",
            "Requirement already satisfied: tqdm==4.32.1 in /usr/local/lib/python3.6/dist-packages (4.32.1)\n"
          ],
          "name": "stdout"
        }
      ]
    },
    {
      "cell_type": "code",
      "metadata": {
        "id": "ae68-pXwnPTk",
        "colab_type": "code",
        "colab": {}
      },
      "source": [
        "from google.colab import drive\n",
        "drive.mount('/content/drive')"
      ],
      "execution_count": 0,
      "outputs": []
    },
    {
      "cell_type": "markdown",
      "metadata": {
        "id": "vE7OwJ4fFhgP",
        "colab_type": "text"
      },
      "source": [
        "## 更改文件路径"
      ]
    },
    {
      "cell_type": "code",
      "metadata": {
        "id": "AHvPueH053r4",
        "colab_type": "code",
        "colab": {}
      },
      "source": [
        "import sys\n",
        "sys.path.append('/content/drive/My Drive/Project/Brain Segmentation/Network Dissection/Network_Dissection_Version5')"
      ],
      "execution_count": 0,
      "outputs": []
    },
    {
      "cell_type": "markdown",
      "metadata": {
        "id": "Anhv9WfiF8d2",
        "colab_type": "text"
      },
      "source": [
        "# Coding"
      ]
    },
    {
      "cell_type": "markdown",
      "metadata": {
        "id": "-4RhjFZfGBXh",
        "colab_type": "text"
      },
      "source": [
        "## 关联包"
      ]
    },
    {
      "cell_type": "code",
      "metadata": {
        "id": "uBwyfuIV7AoG",
        "colab_type": "code",
        "colab": {}
      },
      "source": [
        "import argparse\n",
        "import json\n",
        "import os\n",
        "import h5py\n",
        "\n",
        "import matplotlib.pyplot as plt\n",
        "import numpy as np\n",
        "import torch\n",
        "import torch.optim as optim\n",
        "import torch.utils.data as Data\n",
        "import torch.nn.functional as F\n",
        "\n",
        "\n",
        "from torch.utils.data import DataLoader\n",
        "from tqdm import tqdm\n",
        "\n",
        "from dataset import BrainSegmentationDataset as Dataset\n",
        "from logger import Logger\n",
        "from loss import DiceLoss\n",
        "from transform import transforms\n",
        "from unet import UNet\n",
        "from utils import log_images, dsc\n",
        "from IPython import embed"
      ],
      "execution_count": 0,
      "outputs": []
    },
    {
      "cell_type": "markdown",
      "metadata": {
        "id": "I4-d2m2SGLpP",
        "colab_type": "text"
      },
      "source": [
        "## Data loaders"
      ]
    },
    {
      "cell_type": "code",
      "metadata": {
        "id": "2voo8it19-OW",
        "colab_type": "code",
        "colab": {}
      },
      "source": [
        "def data_loaders(args):\n",
        "    dataset_train, dataset_valid = datasets(args)\n",
        "\n",
        "    def worker_init(worker_id):\n",
        "        np.random.seed(42 + worker_id)\n",
        "\n",
        "    loader_train = DataLoader(\n",
        "        dataset_train,\n",
        "        batch_size=args.batch_size,\n",
        "        shuffle=True,\n",
        "        drop_last=True,\n",
        "        num_workers=args.workers,\n",
        "        worker_init_fn=worker_init,\n",
        "    )\n",
        "    loader_valid = DataLoader(\n",
        "        dataset_valid,\n",
        "        batch_size=args.batch_size,\n",
        "        drop_last=False,\n",
        "        num_workers=args.workers,\n",
        "        worker_init_fn=worker_init,\n",
        "    )\n",
        "\n",
        "    return loader_train, loader_valid\n"
      ],
      "execution_count": 0,
      "outputs": []
    },
    {
      "cell_type": "markdown",
      "metadata": {
        "id": "ROJ2vOMjGRbV",
        "colab_type": "text"
      },
      "source": [
        "## Datasets"
      ]
    },
    {
      "cell_type": "code",
      "metadata": {
        "id": "37IvVIU7-SJG",
        "colab_type": "code",
        "colab": {}
      },
      "source": [
        "def datasets(args):\n",
        "    train = Dataset(\n",
        "        images_dir=args.images,\n",
        "        subset=\"train\",\n",
        "        image_size=args.image_size,\n",
        "        # transform=transforms(scale=args.aug_scale, angle=args.aug_angle, flip_prob=0.5),\n",
        "    )\n",
        "    valid = Dataset(\n",
        "        images_dir=args.images,\n",
        "        subset=\"validation\",\n",
        "        image_size=args.image_size,\n",
        "        # random_sampling=False,\n",
        "    )\n",
        "    return train, valid\n"
      ],
      "execution_count": 0,
      "outputs": []
    },
    {
      "cell_type": "markdown",
      "metadata": {
        "id": "I-jWt2WyGVKf",
        "colab_type": "text"
      },
      "source": [
        "## Dice coefficient"
      ]
    },
    {
      "cell_type": "code",
      "metadata": {
        "id": "cPHdx3xE_Gak",
        "colab_type": "code",
        "colab": {}
      },
      "source": [
        "def dsc_per_volume(validation_pred, validation_true, patient_slice_index):\n",
        "    dsc_list = []\n",
        "    label_dsc = []\n",
        "    num_slices = np.bincount([p[0] for p in patient_slice_index])\n",
        "    index = 0\n",
        "    for p in range(len(num_slices)):\n",
        "        y_pred = np.array(validation_pred[index : index + num_slices[p]])\n",
        "        y_true = np.array(validation_true[index : index + num_slices[p]])\n",
        "        overall_dsc, label = dsc(y_pred,y_true) \n",
        "        dsc_list.append(overall_dsc)\n",
        "        label_dsc.append(label)\n",
        "        index += num_slices[p]\n",
        "    return dsc_list,label_dsc\n"
      ],
      "execution_count": 0,
      "outputs": []
    },
    {
      "cell_type": "markdown",
      "metadata": {
        "id": "XkbUUA6zTVE2",
        "colab_type": "text"
      },
      "source": [
        "## log"
      ]
    },
    {
      "cell_type": "code",
      "metadata": {
        "id": "GxHM0xbi_itg",
        "colab_type": "code",
        "colab": {}
      },
      "source": [
        "def log_loss_summary(logger, loss, step, prefix=\"\"):\n",
        "    logger.scalar_summary(prefix + \"loss\", np.mean(loss), step)\n",
        "\n",
        "\n",
        "def makedirs(args):\n",
        "    os.makedirs(args.weights, exist_ok=True)\n",
        "    os.makedirs(args.logs, exist_ok=True)\n",
        "\n",
        "\n",
        "def snapshotargs(args):\n",
        "    args_file = os.path.join(args.logs, \"args.json\")\n",
        "    with open(args_file, \"w\") as fp:\n",
        "        json.dump(vars(args), fp)"
      ],
      "execution_count": 0,
      "outputs": []
    },
    {
      "cell_type": "markdown",
      "metadata": {
        "id": "yKO7KO9JTYim",
        "colab_type": "text"
      },
      "source": [
        "## 主函数"
      ]
    },
    {
      "cell_type": "code",
      "metadata": {
        "id": "2mOhIfic9vb-",
        "colab_type": "code",
        "colab": {}
      },
      "source": [
        "def main(args):\n",
        "    makedirs(args)\n",
        "    snapshotargs(args)\n",
        "    device = torch.device(\"cpu\" if not torch.cuda.is_available() else args.device)\n",
        "\n",
        "    loader_train, loader_valid = data_loaders(args)\n",
        "    loaders = {\"train\": loader_train, \"valid\": loader_valid}\n",
        "\n",
        "    unet = UNet(in_channels=Dataset.in_channels, out_channels=Dataset.out_channels)\n",
        "    # unet.apply(weights_init)\n",
        "    unet.to(device)\n",
        "\n",
        "    dsc_loss = DiceLoss()\n",
        "    best_validation_dsc = 0.0\n",
        "\n",
        "    optimizer = optim.Adam(unet.parameters(), lr=args.lr, weight_decay=1e-4)\n",
        "    # optimizer = optim.Adam(unet.parameters(), lr=args.lr)\n",
        "\n",
        "    logger = Logger(args.logs)\n",
        "    loss_train = []\n",
        "    loss_valid = []\n",
        "\n",
        "    validation_pred = []\n",
        "    validation_true = []\n",
        "    step = 0\n",
        "\n",
        "    for epoch in tqdm(range(args.epochs), total=args.epochs):\n",
        "        for phase in [\"train\", \"valid\"]:\n",
        "            if phase == \"train\":\n",
        "                unet.train()\n",
        "            else:\n",
        "                unet.eval()\n",
        "\n",
        "\n",
        "            for i, data in enumerate(loaders[phase]):\n",
        "                if phase == \"train\":\n",
        "                    step += 1\n",
        "                x, y_true = data\n",
        "                x, y_true = x.to(device), y_true.to(device)\n",
        "                optimizer.zero_grad()\n",
        "                with torch.set_grad_enabled(phase == \"train\"):\n",
        "                    y_pred = unet(x)\n",
        "                    loss = dsc_loss(y_pred, y_true)\n",
        "                    # print(loss)\n",
        "\n",
        "                    if phase == \"valid\":\n",
        "                    # if phase == \"train\":\n",
        "                        loss_valid.append(loss.item())\n",
        "                        y_pred_np = y_pred.detach().cpu().numpy()\n",
        "                        validation_pred.extend(\n",
        "                            [y_pred_np[s] for s in range(y_pred_np.shape[0])]\n",
        "                        )\n",
        "                        y_true_np = y_true.detach().cpu().numpy()\n",
        "                        validation_true.extend(\n",
        "                            [y_true_np[s] for s in range(y_true_np.shape[0])]\n",
        "                        )\n",
        "\n",
        "                    if phase == \"train\":\n",
        "                        loss_train.append(loss.item())\n",
        "                        loss.backward()\n",
        "                        optimizer.step()\n",
        "\n",
        "\n",
        "            if phase == \"valid\":\n",
        "                dsc, label_dsc = dsc_per_volume(\n",
        "                          validation_pred,\n",
        "                          validation_true,\n",
        "                          loader_valid.dataset.patient_slice_index,\n",
        "                          # loader_train.dataset.patient_slice_index,\n",
        "                          )\n",
        "                mean_dsc = np.mean(dsc)\n",
        "                print(mean_dsc)\n",
        "                print(np.array(label_dsc).mean(axis=0))\n",
        "\n",
        "                if mean_dsc > best_validation_dsc:\n",
        "                    best_validation_dsc = mean_dsc\n",
        "                    best_label_dsc = label_dsc\n",
        "                    torch.save(unet.state_dict(), os.path.join(args.weights, \"unet.pt\"))\n",
        "                    opt = epoch;\n",
        "                loss_valid = []\n",
        "                validation_pred = []\n",
        "                validation_true = []\n",
        "    # torch.save(unet.state_dict(), os.path.join(args.weights, \"unet.pt\"))\n",
        "    print(\"Best validation mean DSC: {:4f}\".format(best_validation_dsc))\n",
        "    print(opt);"
      ],
      "execution_count": 0,
      "outputs": []
    },
    {
      "cell_type": "markdown",
      "metadata": {
        "id": "roDW9g74HsQn",
        "colab_type": "text"
      },
      "source": [
        "## 主函数参数"
      ]
    },
    {
      "cell_type": "code",
      "metadata": {
        "id": "UrR1WfRZ_moE",
        "colab_type": "code",
        "outputId": "fdd8e38a-81c0-4114-ff26-b44ee4286c41",
        "colab": {
          "base_uri": "https://localhost:8080/",
          "height": 1000
        }
      },
      "source": [
        "if __name__ == \"__main__\":\n",
        "    parser = argparse.ArgumentParser(\n",
        "        description=\"Training U-Net model for segmentation of brain MRI\"\n",
        "    )\n",
        "    parser.add_argument(\n",
        "        \"--batch-size\",\n",
        "        type=int,\n",
        "        default=8,\n",
        "        help=\"input batch size for training (default: 16)\",\n",
        "    )\n",
        "    parser.add_argument(\n",
        "        \"--epochs\",\n",
        "        type=int,\n",
        "        default=1000,\n",
        "        help=\"number of epochs to train (default: 100)\",\n",
        "    )\n",
        "    parser.add_argument(\n",
        "        \"--lr\",\n",
        "        type=float,\n",
        "        default=0.0005,\n",
        "        help=\"initial learning rate (default: 0.001)\",\n",
        "    )\n",
        "    parser.add_argument(\n",
        "        \"--device\",\n",
        "        type=str,\n",
        "        default=\"cuda:0\",\n",
        "        help=\"device for training (default: cuda:0)\",\n",
        "    )\n",
        "    parser.add_argument(\n",
        "        \"--workers\",\n",
        "        type=int,\n",
        "        default=4,\n",
        "        help=\"number of workers for data loading (default: 4)\",\n",
        "    )\n",
        "    parser.add_argument(\n",
        "        \"--vis-images\",\n",
        "        type=int,\n",
        "        default=200,\n",
        "        help=\"number of visualization images to save in log file (default: 200)\",\n",
        "    )\n",
        "    parser.add_argument(\n",
        "        \"--vis-freq\",\n",
        "        type=int,\n",
        "        default=10,\n",
        "        help=\"frequency of saving images to log file (default: 10)\",\n",
        "    )\n",
        "    parser.add_argument(\n",
        "        \"--weights\", type=str, default=\"./weights\", help=\"folder to save weights\"\n",
        "    )\n",
        "    parser.add_argument(\n",
        "        \"--logs\", type=str, default=\"./logs\", help=\"folder to save logs\"\n",
        "    )\n",
        "    # parser.add_argument(\n",
        "    #     \"--images\", type=str, default=\"./kaggle_3m\", help=\"root folder with images\"\n",
        "    # )\n",
        "    parser.add_argument(\n",
        "        \"--images\", type=str, default=\"/content/drive/My Drive/Project/DATA/TEST_DATA/HGG2\", help=\"root folder with images\"\n",
        "        # \"--images\", type=str, default=\"/content/drive/My Drive/Project/DATA/TEST_DATA/HGG2/BraTS19_2013_10_1\", help=\"root folder with images\"\n",
        "    )\n",
        "    parser.add_argument(\n",
        "        \"--image-size\",\n",
        "        type=int,\n",
        "        default=256,\n",
        "        help=\"target input image size (default: 240)\",\n",
        "    )\n",
        "    parser.add_argument(\n",
        "        \"--aug-scale\",\n",
        "        type=int,\n",
        "        default=0.05,\n",
        "        help=\"scale factor range for augmentation (default: 0.05)\",\n",
        "    )\n",
        "    parser.add_argument(\n",
        "        \"--aug-angle\",\n",
        "        type=int,\n",
        "        default=15,\n",
        "        help=\"rotation angle range in degrees for augmentation (default: 15)\",\n",
        "    )\n",
        "\n",
        "    # args = parser.parse_args()\n",
        "    args = parser.parse_args(args=[])\n",
        "    main(args)"
      ],
      "execution_count": 9,
      "outputs": [
        {
          "output_type": "stream",
          "text": [
            "reading train images...\n",
            "preprocessing train volumes...\n",
            "one hotting train volumes...\n",
            "cropping train volumes...\n",
            "padding train volumes...\n",
            "resizing train volumes...\n"
          ],
          "name": "stdout"
        },
        {
          "output_type": "stream",
          "text": [
            "/usr/local/lib/python3.6/dist-packages/skimage/util/dtype.py:141: UserWarning: Possible precision loss when converting from int64 to float64\n",
            "  .format(dtypeobj_in, dtypeobj_out))\n"
          ],
          "name": "stderr"
        },
        {
          "output_type": "stream",
          "text": [
            "finish\n",
            "finish\n",
            "finish\n",
            "finish\n",
            "finish\n",
            "finish\n",
            "finish\n",
            "finish\n",
            "finish\n",
            "normalizing train volumes...\n",
            "converting mask to one of train volumes...\n",
            "done creating train dataset\n",
            "reading validation images...\n",
            "preprocessing validation volumes...\n",
            "one hotting validation volumes...\n",
            "cropping validation volumes...\n",
            "padding validation volumes...\n",
            "resizing validation volumes...\n",
            "finish\n",
            "finish\n",
            "normalizing validation volumes...\n",
            "converting mask to one of validation volumes...\n",
            "done creating validation dataset\n"
          ],
          "name": "stdout"
        },
        {
          "output_type": "stream",
          "text": [
            "  0%|          | 1/1000 [00:04<1:14:43,  4.49s/it]"
          ],
          "name": "stderr"
        },
        {
          "output_type": "stream",
          "text": [
            "0.2699138542154802\n",
            "[9.48653664e-01 2.86271632e-05 2.67646276e-02 1.04208498e-01]\n"
          ],
          "name": "stdout"
        },
        {
          "output_type": "stream",
          "text": [
            "\r  0%|          | 2/1000 [00:08<1:13:10,  4.40s/it]"
          ],
          "name": "stderr"
        },
        {
          "output_type": "stream",
          "text": [
            "0.4019279918658001\n",
            "[0.95755685 0.04746306 0.45705226 0.1456398 ]\n"
          ],
          "name": "stdout"
        },
        {
          "output_type": "stream",
          "text": [
            "\r  0%|          | 3/1000 [00:12<1:12:06,  4.34s/it]"
          ],
          "name": "stderr"
        },
        {
          "output_type": "stream",
          "text": [
            "0.4695758026496647\n",
            "[0.97588509 0.0970184  0.66055497 0.14484475]\n"
          ],
          "name": "stdout"
        },
        {
          "output_type": "stream",
          "text": [
            "\r  0%|          | 4/1000 [00:17<1:11:17,  4.29s/it]"
          ],
          "name": "stderr"
        },
        {
          "output_type": "stream",
          "text": [
            "0.47030192659098846\n",
            "[0.9735393  0.09590285 0.61550415 0.1962614 ]\n"
          ],
          "name": "stdout"
        },
        {
          "output_type": "stream",
          "text": [
            "\r  0%|          | 5/1000 [00:21<1:10:23,  4.25s/it]"
          ],
          "name": "stderr"
        },
        {
          "output_type": "stream",
          "text": [
            "0.42038560080540244\n",
            "[0.95019887 0.12655126 0.48468199 0.12011029]\n"
          ],
          "name": "stdout"
        },
        {
          "output_type": "stream",
          "text": [
            "\r  1%|          | 6/1000 [00:25<1:10:08,  4.23s/it]"
          ],
          "name": "stderr"
        },
        {
          "output_type": "stream",
          "text": [
            "0.4750041051895448\n",
            "[0.97110076 0.01880336 0.68388362 0.22622868]\n"
          ],
          "name": "stdout"
        },
        {
          "output_type": "stream",
          "text": [
            "\r  1%|          | 7/1000 [00:29<1:09:38,  4.21s/it]"
          ],
          "name": "stderr"
        },
        {
          "output_type": "stream",
          "text": [
            "0.4733953827104828\n",
            "[0.971417   0.0113925  0.63582919 0.27494284]\n"
          ],
          "name": "stdout"
        },
        {
          "output_type": "stream",
          "text": [
            "\r  1%|          | 8/1000 [00:33<1:09:18,  4.19s/it]"
          ],
          "name": "stderr"
        },
        {
          "output_type": "stream",
          "text": [
            "0.46064700808822134\n",
            "[0.9676096  0.0699984  0.63787319 0.16710684]\n"
          ],
          "name": "stdout"
        },
        {
          "output_type": "stream",
          "text": [
            "\r  1%|          | 9/1000 [00:37<1:09:06,  4.18s/it]"
          ],
          "name": "stderr"
        },
        {
          "output_type": "stream",
          "text": [
            "0.46740992290422534\n",
            "[0.97101954 0.08266894 0.60532986 0.21062135]\n"
          ],
          "name": "stdout"
        },
        {
          "output_type": "stream",
          "text": [
            "\r  1%|          | 10/1000 [00:42<1:08:52,  4.17s/it]"
          ],
          "name": "stderr"
        },
        {
          "output_type": "stream",
          "text": [
            "0.44836106199965375\n",
            "[0.97023159 0.05440849 0.65237379 0.11643038]\n"
          ],
          "name": "stdout"
        },
        {
          "output_type": "stream",
          "text": [
            "\r  1%|          | 11/1000 [00:46<1:08:45,  4.17s/it]"
          ],
          "name": "stderr"
        },
        {
          "output_type": "stream",
          "text": [
            "0.4517402551909747\n",
            "[0.97187924 0.15035608 0.5279658  0.1567599 ]\n"
          ],
          "name": "stdout"
        },
        {
          "output_type": "stream",
          "text": [
            "\r  1%|          | 12/1000 [00:50<1:08:43,  4.17s/it]"
          ],
          "name": "stderr"
        },
        {
          "output_type": "stream",
          "text": [
            "0.44564491021585684\n",
            "[9.65936057e-01 7.47224044e-05 6.63703875e-01 1.52864986e-01]\n"
          ],
          "name": "stdout"
        },
        {
          "output_type": "stream",
          "text": [
            "\r  1%|▏         | 13/1000 [00:54<1:08:40,  4.17s/it]"
          ],
          "name": "stderr"
        },
        {
          "output_type": "stream",
          "text": [
            "0.4571781187798962\n",
            "[0.97125333 0.01369989 0.6602845  0.18347476]\n"
          ],
          "name": "stdout"
        },
        {
          "output_type": "stream",
          "text": [
            "\r  1%|▏         | 14/1000 [00:58<1:08:33,  4.17s/it]"
          ],
          "name": "stderr"
        },
        {
          "output_type": "stream",
          "text": [
            "0.4600554070888748\n",
            "[0.96485707 0.09945195 0.59206174 0.18385087]\n"
          ],
          "name": "stdout"
        },
        {
          "output_type": "stream",
          "text": [
            "\r  2%|▏         | 15/1000 [01:02<1:08:31,  4.17s/it]"
          ],
          "name": "stderr"
        },
        {
          "output_type": "stream",
          "text": [
            "0.4567249974393761\n",
            "[0.97364091 0.00313981 0.68696879 0.16315048]\n"
          ],
          "name": "stdout"
        },
        {
          "output_type": "stream",
          "text": [
            "\r  2%|▏         | 16/1000 [01:07<1:08:19,  4.17s/it]"
          ],
          "name": "stderr"
        },
        {
          "output_type": "stream",
          "text": [
            "0.4581475459585216\n",
            "[0.97377771 0.00601781 0.59445841 0.25833625]\n"
          ],
          "name": "stdout"
        },
        {
          "output_type": "stream",
          "text": [
            "\r  2%|▏         | 17/1000 [01:11<1:08:10,  4.16s/it]"
          ],
          "name": "stderr"
        },
        {
          "output_type": "stream",
          "text": [
            "0.461399703008067\n",
            "[0.97331284 0.05942983 0.59644408 0.21641206]\n"
          ],
          "name": "stdout"
        },
        {
          "output_type": "stream",
          "text": [
            "\r  2%|▏         | 18/1000 [01:15<1:08:06,  4.16s/it]"
          ],
          "name": "stderr"
        },
        {
          "output_type": "stream",
          "text": [
            "0.4506782404488828\n",
            "[0.96962187 0.00265647 0.60567164 0.22476299]\n"
          ],
          "name": "stdout"
        },
        {
          "output_type": "stream",
          "text": [
            "\r  2%|▏         | 19/1000 [01:19<1:08:12,  4.17s/it]"
          ],
          "name": "stderr"
        },
        {
          "output_type": "stream",
          "text": [
            "0.47501233956853006\n",
            "[0.97245094 0.06245241 0.63178694 0.23335906]\n"
          ],
          "name": "stdout"
        },
        {
          "output_type": "stream",
          "text": [
            "\r  2%|▏         | 20/1000 [01:23<1:08:03,  4.17s/it]"
          ],
          "name": "stderr"
        },
        {
          "output_type": "stream",
          "text": [
            "0.44273305827860004\n",
            "[0.97000458 0.00280797 0.65213193 0.14598776]\n"
          ],
          "name": "stdout"
        },
        {
          "output_type": "stream",
          "text": [
            "\r  2%|▏         | 21/1000 [01:27<1:07:50,  4.16s/it]"
          ],
          "name": "stderr"
        },
        {
          "output_type": "stream",
          "text": [
            "0.465841618121051\n",
            "[0.97310724 0.04243345 0.63123901 0.21658678]\n"
          ],
          "name": "stdout"
        },
        {
          "output_type": "stream",
          "text": [
            "\r  2%|▏         | 22/1000 [01:32<1:07:59,  4.17s/it]"
          ],
          "name": "stderr"
        },
        {
          "output_type": "stream",
          "text": [
            "0.4851096940751172\n",
            "[0.9725746  0.03783975 0.67473558 0.25528885]\n"
          ],
          "name": "stdout"
        },
        {
          "output_type": "stream",
          "text": [
            "\r  2%|▏         | 23/1000 [01:36<1:07:54,  4.17s/it]"
          ],
          "name": "stderr"
        },
        {
          "output_type": "stream",
          "text": [
            "0.46056074723211293\n",
            "[0.96856465 0.04523206 0.60199475 0.22645153]\n"
          ],
          "name": "stdout"
        },
        {
          "output_type": "stream",
          "text": [
            "\r  2%|▏         | 24/1000 [01:40<1:07:45,  4.17s/it]"
          ],
          "name": "stderr"
        },
        {
          "output_type": "stream",
          "text": [
            "0.45495604447177107\n",
            "[0.9729135  0.01180388 0.66067488 0.17443192]\n"
          ],
          "name": "stdout"
        },
        {
          "output_type": "stream",
          "text": [
            "\r  2%|▎         | 25/1000 [01:44<1:07:34,  4.16s/it]"
          ],
          "name": "stderr"
        },
        {
          "output_type": "stream",
          "text": [
            "0.46753151400767545\n",
            "[0.97238775 0.01448481 0.64910268 0.23415082]\n"
          ],
          "name": "stdout"
        },
        {
          "output_type": "stream",
          "text": [
            "\r  3%|▎         | 26/1000 [01:48<1:07:28,  4.16s/it]"
          ],
          "name": "stderr"
        },
        {
          "output_type": "stream",
          "text": [
            "0.4582061598708064\n",
            "[0.97469272 0.04732597 0.56309695 0.247709  ]\n"
          ],
          "name": "stdout"
        },
        {
          "output_type": "stream",
          "text": [
            "\r  3%|▎         | 27/1000 [01:52<1:07:21,  4.15s/it]"
          ],
          "name": "stderr"
        },
        {
          "output_type": "stream",
          "text": [
            "0.4387647951992157\n",
            "[9.70490000e-01 2.70646595e-05 6.65461360e-01 1.19080756e-01]\n"
          ],
          "name": "stdout"
        },
        {
          "output_type": "stream",
          "text": [
            "\r  3%|▎         | 28/1000 [01:56<1:07:15,  4.15s/it]"
          ],
          "name": "stderr"
        },
        {
          "output_type": "stream",
          "text": [
            "0.4635607852634438\n",
            "[0.96942177 0.04648469 0.67344832 0.16488836]\n"
          ],
          "name": "stdout"
        },
        {
          "output_type": "stream",
          "text": [
            "\r  3%|▎         | 29/1000 [02:01<1:07:06,  4.15s/it]"
          ],
          "name": "stderr"
        },
        {
          "output_type": "stream",
          "text": [
            "0.46961414420335357\n",
            "[0.97345313 0.02763722 0.62185875 0.25550748]\n"
          ],
          "name": "stdout"
        },
        {
          "output_type": "stream",
          "text": [
            "\r  3%|▎         | 30/1000 [02:05<1:07:04,  4.15s/it]"
          ],
          "name": "stderr"
        },
        {
          "output_type": "stream",
          "text": [
            "0.4742456549083352\n",
            "[0.97584661 0.01474484 0.6385655  0.26782566]\n"
          ],
          "name": "stdout"
        },
        {
          "output_type": "stream",
          "text": [
            "\r  3%|▎         | 31/1000 [02:09<1:07:03,  4.15s/it]"
          ],
          "name": "stderr"
        },
        {
          "output_type": "stream",
          "text": [
            "0.4487834659936416\n",
            "[9.70919150e-01 2.85610801e-05 6.31291428e-01 1.92894725e-01]\n"
          ],
          "name": "stdout"
        },
        {
          "output_type": "stream",
          "text": [
            "\r  3%|▎         | 32/1000 [02:13<1:07:04,  4.16s/it]"
          ],
          "name": "stderr"
        },
        {
          "output_type": "stream",
          "text": [
            "0.4612288855268962\n",
            "[0.97032317 0.05747267 0.6367897  0.18033001]\n"
          ],
          "name": "stdout"
        },
        {
          "output_type": "stream",
          "text": [
            "\r  3%|▎         | 33/1000 [02:17<1:07:03,  4.16s/it]"
          ],
          "name": "stderr"
        },
        {
          "output_type": "stream",
          "text": [
            "0.4273753059196837\n",
            "[0.96374221 0.00238742 0.60135893 0.14201266]\n"
          ],
          "name": "stdout"
        },
        {
          "output_type": "stream",
          "text": [
            "\r  3%|▎         | 34/1000 [02:21<1:06:56,  4.16s/it]"
          ],
          "name": "stderr"
        },
        {
          "output_type": "stream",
          "text": [
            "0.4597733790198526\n",
            "[0.97268218 0.00765736 0.61368067 0.24507331]\n"
          ],
          "name": "stdout"
        },
        {
          "output_type": "stream",
          "text": [
            "\r  4%|▎         | 35/1000 [02:26<1:06:50,  4.16s/it]"
          ],
          "name": "stderr"
        },
        {
          "output_type": "stream",
          "text": [
            "0.43579935105132483\n",
            "[9.67754477e-01 2.65706055e-05 6.84846622e-01 9.05697351e-02]\n"
          ],
          "name": "stdout"
        },
        {
          "output_type": "stream",
          "text": [
            "\r  4%|▎         | 36/1000 [02:30<1:06:45,  4.16s/it]"
          ],
          "name": "stderr"
        },
        {
          "output_type": "stream",
          "text": [
            "0.44776974054677654\n",
            "[0.97219609 0.01036831 0.57554465 0.23296991]\n"
          ],
          "name": "stdout"
        },
        {
          "output_type": "stream",
          "text": [
            "\r  4%|▎         | 37/1000 [02:34<1:06:40,  4.15s/it]"
          ],
          "name": "stderr"
        },
        {
          "output_type": "stream",
          "text": [
            "0.4483485301796405\n",
            "[0.96900952 0.00556473 0.66729335 0.15152652]\n"
          ],
          "name": "stdout"
        },
        {
          "output_type": "stream",
          "text": [
            "\r  4%|▍         | 38/1000 [02:38<1:06:38,  4.16s/it]"
          ],
          "name": "stderr"
        },
        {
          "output_type": "stream",
          "text": [
            "0.46004196575926926\n",
            "[9.71653084e-01 2.13698414e-04 6.50436668e-01 2.17864413e-01]\n"
          ],
          "name": "stdout"
        },
        {
          "output_type": "stream",
          "text": [
            "\r  4%|▍         | 39/1000 [02:42<1:06:33,  4.16s/it]"
          ],
          "name": "stderr"
        },
        {
          "output_type": "stream",
          "text": [
            "0.45911239140141824\n",
            "[9.74135547e-01 2.90639430e-04 6.01387912e-01 2.60635467e-01]\n"
          ],
          "name": "stdout"
        },
        {
          "output_type": "error",
          "ename": "KeyboardInterrupt",
          "evalue": "ignored",
          "traceback": [
            "\u001b[0;31m---------------------------------------------------------------------------\u001b[0m",
            "\u001b[0;31mKeyboardInterrupt\u001b[0m                         Traceback (most recent call last)",
            "\u001b[0;32m<ipython-input-9-8087fd5632d4>\u001b[0m in \u001b[0;36m<module>\u001b[0;34m()\u001b[0m\n\u001b[1;32m     79\u001b[0m     \u001b[0;31m# args = parser.parse_args()\u001b[0m\u001b[0;34m\u001b[0m\u001b[0;34m\u001b[0m\u001b[0;34m\u001b[0m\u001b[0m\n\u001b[1;32m     80\u001b[0m     \u001b[0margs\u001b[0m \u001b[0;34m=\u001b[0m \u001b[0mparser\u001b[0m\u001b[0;34m.\u001b[0m\u001b[0mparse_args\u001b[0m\u001b[0;34m(\u001b[0m\u001b[0margs\u001b[0m\u001b[0;34m=\u001b[0m\u001b[0;34m[\u001b[0m\u001b[0;34m]\u001b[0m\u001b[0;34m)\u001b[0m\u001b[0;34m\u001b[0m\u001b[0;34m\u001b[0m\u001b[0m\n\u001b[0;32m---> 81\u001b[0;31m     \u001b[0mmain\u001b[0m\u001b[0;34m(\u001b[0m\u001b[0margs\u001b[0m\u001b[0;34m)\u001b[0m\u001b[0;34m\u001b[0m\u001b[0;34m\u001b[0m\u001b[0m\n\u001b[0m",
            "\u001b[0;32m<ipython-input-8-333791b0a7f2>\u001b[0m in \u001b[0;36mmain\u001b[0;34m(args)\u001b[0m\n\u001b[1;32m     59\u001b[0m                         \u001b[0mloss_train\u001b[0m\u001b[0;34m.\u001b[0m\u001b[0mappend\u001b[0m\u001b[0;34m(\u001b[0m\u001b[0mloss\u001b[0m\u001b[0;34m.\u001b[0m\u001b[0mitem\u001b[0m\u001b[0;34m(\u001b[0m\u001b[0;34m)\u001b[0m\u001b[0;34m)\u001b[0m\u001b[0;34m\u001b[0m\u001b[0;34m\u001b[0m\u001b[0m\n\u001b[1;32m     60\u001b[0m                         \u001b[0mloss\u001b[0m\u001b[0;34m.\u001b[0m\u001b[0mbackward\u001b[0m\u001b[0;34m(\u001b[0m\u001b[0;34m)\u001b[0m\u001b[0;34m\u001b[0m\u001b[0;34m\u001b[0m\u001b[0m\n\u001b[0;32m---> 61\u001b[0;31m                         \u001b[0moptimizer\u001b[0m\u001b[0;34m.\u001b[0m\u001b[0mstep\u001b[0m\u001b[0;34m(\u001b[0m\u001b[0;34m)\u001b[0m\u001b[0;34m\u001b[0m\u001b[0;34m\u001b[0m\u001b[0m\n\u001b[0m\u001b[1;32m     62\u001b[0m \u001b[0;34m\u001b[0m\u001b[0m\n\u001b[1;32m     63\u001b[0m \u001b[0;34m\u001b[0m\u001b[0m\n",
            "\u001b[0;32m/usr/local/lib/python3.6/dist-packages/torch/autograd/grad_mode.py\u001b[0m in \u001b[0;36mdecorate_context\u001b[0;34m(*args, **kwargs)\u001b[0m\n\u001b[1;32m     13\u001b[0m         \u001b[0;32mdef\u001b[0m \u001b[0mdecorate_context\u001b[0m\u001b[0;34m(\u001b[0m\u001b[0;34m*\u001b[0m\u001b[0margs\u001b[0m\u001b[0;34m,\u001b[0m \u001b[0;34m**\u001b[0m\u001b[0mkwargs\u001b[0m\u001b[0;34m)\u001b[0m\u001b[0;34m:\u001b[0m\u001b[0;34m\u001b[0m\u001b[0;34m\u001b[0m\u001b[0m\n\u001b[1;32m     14\u001b[0m             \u001b[0;32mwith\u001b[0m \u001b[0mself\u001b[0m\u001b[0;34m:\u001b[0m\u001b[0;34m\u001b[0m\u001b[0;34m\u001b[0m\u001b[0m\n\u001b[0;32m---> 15\u001b[0;31m                 \u001b[0;32mreturn\u001b[0m \u001b[0mfunc\u001b[0m\u001b[0;34m(\u001b[0m\u001b[0;34m*\u001b[0m\u001b[0margs\u001b[0m\u001b[0;34m,\u001b[0m \u001b[0;34m**\u001b[0m\u001b[0mkwargs\u001b[0m\u001b[0;34m)\u001b[0m\u001b[0;34m\u001b[0m\u001b[0;34m\u001b[0m\u001b[0m\n\u001b[0m\u001b[1;32m     16\u001b[0m         \u001b[0;32mreturn\u001b[0m \u001b[0mdecorate_context\u001b[0m\u001b[0;34m\u001b[0m\u001b[0;34m\u001b[0m\u001b[0m\n\u001b[1;32m     17\u001b[0m \u001b[0;34m\u001b[0m\u001b[0m\n",
            "\u001b[0;32m/usr/local/lib/python3.6/dist-packages/torch/optim/adam.py\u001b[0m in \u001b[0;36mstep\u001b[0;34m(self, closure)\u001b[0m\n\u001b[1;32m    105\u001b[0m                     \u001b[0mdenom\u001b[0m \u001b[0;34m=\u001b[0m \u001b[0;34m(\u001b[0m\u001b[0mmax_exp_avg_sq\u001b[0m\u001b[0;34m.\u001b[0m\u001b[0msqrt\u001b[0m\u001b[0;34m(\u001b[0m\u001b[0;34m)\u001b[0m \u001b[0;34m/\u001b[0m \u001b[0mmath\u001b[0m\u001b[0;34m.\u001b[0m\u001b[0msqrt\u001b[0m\u001b[0;34m(\u001b[0m\u001b[0mbias_correction2\u001b[0m\u001b[0;34m)\u001b[0m\u001b[0;34m)\u001b[0m\u001b[0;34m.\u001b[0m\u001b[0madd_\u001b[0m\u001b[0;34m(\u001b[0m\u001b[0mgroup\u001b[0m\u001b[0;34m[\u001b[0m\u001b[0;34m'eps'\u001b[0m\u001b[0;34m]\u001b[0m\u001b[0;34m)\u001b[0m\u001b[0;34m\u001b[0m\u001b[0;34m\u001b[0m\u001b[0m\n\u001b[1;32m    106\u001b[0m                 \u001b[0;32melse\u001b[0m\u001b[0;34m:\u001b[0m\u001b[0;34m\u001b[0m\u001b[0;34m\u001b[0m\u001b[0m\n\u001b[0;32m--> 107\u001b[0;31m                     \u001b[0mdenom\u001b[0m \u001b[0;34m=\u001b[0m \u001b[0;34m(\u001b[0m\u001b[0mexp_avg_sq\u001b[0m\u001b[0;34m.\u001b[0m\u001b[0msqrt\u001b[0m\u001b[0;34m(\u001b[0m\u001b[0;34m)\u001b[0m \u001b[0;34m/\u001b[0m \u001b[0mmath\u001b[0m\u001b[0;34m.\u001b[0m\u001b[0msqrt\u001b[0m\u001b[0;34m(\u001b[0m\u001b[0mbias_correction2\u001b[0m\u001b[0;34m)\u001b[0m\u001b[0;34m)\u001b[0m\u001b[0;34m.\u001b[0m\u001b[0madd_\u001b[0m\u001b[0;34m(\u001b[0m\u001b[0mgroup\u001b[0m\u001b[0;34m[\u001b[0m\u001b[0;34m'eps'\u001b[0m\u001b[0;34m]\u001b[0m\u001b[0;34m)\u001b[0m\u001b[0;34m\u001b[0m\u001b[0;34m\u001b[0m\u001b[0m\n\u001b[0m\u001b[1;32m    108\u001b[0m \u001b[0;34m\u001b[0m\u001b[0m\n\u001b[1;32m    109\u001b[0m                 \u001b[0mstep_size\u001b[0m \u001b[0;34m=\u001b[0m \u001b[0mgroup\u001b[0m\u001b[0;34m[\u001b[0m\u001b[0;34m'lr'\u001b[0m\u001b[0;34m]\u001b[0m \u001b[0;34m/\u001b[0m \u001b[0mbias_correction1\u001b[0m\u001b[0;34m\u001b[0m\u001b[0;34m\u001b[0m\u001b[0m\n",
            "\u001b[0;31mKeyboardInterrupt\u001b[0m: "
          ]
        }
      ]
    },
    {
      "cell_type": "code",
      "metadata": {
        "id": "BHxYQILhpQd7",
        "colab_type": "code",
        "outputId": "96c0a4e2-7b91-4817-8414-2c62a987dac8",
        "colab": {
          "base_uri": "https://localhost:8080/",
          "height": 202
        }
      },
      "source": [
        "embed()"
      ],
      "execution_count": 0,
      "outputs": [
        {
          "output_type": "stream",
          "text": [
            "Python 3.6.9 (default, Apr 18 2020, 01:56:04) \n",
            "Type \"copyright\", \"credits\" or \"license\" for more information.\n",
            "\n",
            "IPython 5.5.0 -- An enhanced Interactive Python.\n",
            "?         -> Introduction and overview of IPython's features.\n",
            "%quickref -> Quick reference.\n",
            "help      -> Python's own help system.\n",
            "object?   -> Details about 'object', use 'object??' for extra details.\n",
            "\n",
            "In [1]: exit\n",
            "\n"
          ],
          "name": "stdout"
        }
      ]
    },
    {
      "cell_type": "markdown",
      "metadata": {
        "id": "g_7lJH1ya-83",
        "colab_type": "text"
      },
      "source": [
        "# Network Dissection"
      ]
    },
    {
      "cell_type": "markdown",
      "metadata": {
        "id": "6T6gNFG_bjSn",
        "colab_type": "text"
      },
      "source": [
        "## 加载模型"
      ]
    },
    {
      "cell_type": "code",
      "metadata": {
        "id": "4Uh0DqJibftv",
        "colab_type": "code",
        "outputId": "0e298df5-e2cc-48b6-e2c9-0c6be34591e9",
        "colab": {
          "base_uri": "https://localhost:8080/",
          "height": 35
        }
      },
      "source": [
        "device = torch.device(\"cpu\" if not torch.cuda.is_available() else args.device)\n",
        "unet = UNet(in_channels=Dataset.in_channels, out_channels=Dataset.out_channels)\n",
        "model = unet.to(device)\n",
        "model.load_state_dict(torch.load('/content/weights/unet.pt'))"
      ],
      "execution_count": 0,
      "outputs": [
        {
          "output_type": "execute_result",
          "data": {
            "text/plain": [
              "<All keys matched successfully>"
            ]
          },
          "metadata": {
            "tags": []
          },
          "execution_count": 9
        }
      ]
    },
    {
      "cell_type": "markdown",
      "metadata": {
        "id": "EeIbTGkejWcz",
        "colab_type": "text"
      },
      "source": [
        "## 读取图片"
      ]
    },
    {
      "cell_type": "code",
      "metadata": {
        "id": "KctEVd2sjTqE",
        "colab_type": "code",
        "colab": {}
      },
      "source": [
        "import nibabel as nib\n",
        "\n",
        "path = '/content/drive/My Drive/Project/DATA/TEST_DATA/HGG2/BraTS19_2013_2_1/BraTS19_2013_2_1_flair.nii.gz'\n",
        "image_data = nib.load(path).get_fdata()"
      ],
      "execution_count": 0,
      "outputs": []
    },
    {
      "cell_type": "markdown",
      "metadata": {
        "id": "ol746aRhjbUa",
        "colab_type": "text"
      },
      "source": [
        "## 读取MASK"
      ]
    },
    {
      "cell_type": "code",
      "metadata": {
        "id": "Ujv1MxNxjdAj",
        "colab_type": "code",
        "outputId": "0e366204-e2a3-4f28-95e5-a7f23a163c28",
        "colab": {
          "base_uri": "https://localhost:8080/",
          "height": 127
        }
      },
      "source": [
        "import nibabel as nib\n",
        "\n",
        "path = '/content/drive/My Drive/Project/DATA/TEST_DATA/HGG2/BraTS19_2013_2_1/BraTS19_2013_2_1_seg.nii.gz'\n",
        "mask_data = nib.load(path).get_data()"
      ],
      "execution_count": 0,
      "outputs": [
        {
          "output_type": "stream",
          "text": [
            "/usr/local/lib/python3.6/dist-packages/ipykernel_launcher.py:4: DeprecationWarning: get_data() is deprecated in favor of get_fdata(), which has a more predictable return type. To obtain get_data() behavior going forward, use numpy.asanyarray(img.dataobj).\n",
            "\n",
            "* deprecated from version: 3.0\n",
            "* Will raise <class 'nibabel.deprecator.ExpiredDeprecationError'> as of version: 5.0\n",
            "  after removing the cwd from sys.path.\n"
          ],
          "name": "stderr"
        }
      ]
    },
    {
      "cell_type": "markdown",
      "metadata": {
        "id": "jAttuCD2crOO",
        "colab_type": "text"
      },
      "source": [
        "## 打印layer_name"
      ]
    },
    {
      "cell_type": "code",
      "metadata": {
        "id": "Clmn4gYyc9TO",
        "colab_type": "code",
        "outputId": "19451baf-fa79-449a-d392-8fef44f1180d",
        "colab": {
          "base_uri": "https://localhost:8080/",
          "height": 1000
        }
      },
      "source": [
        "for name in model.state_dict():\n",
        "   print(name)"
      ],
      "execution_count": 0,
      "outputs": [
        {
          "output_type": "stream",
          "text": [
            "encoder1.enc1conv1.weight\n",
            "encoder1.enc1norm1.weight\n",
            "encoder1.enc1norm1.bias\n",
            "encoder1.enc1norm1.running_mean\n",
            "encoder1.enc1norm1.running_var\n",
            "encoder1.enc1norm1.num_batches_tracked\n",
            "encoder1.enc1conv2.weight\n",
            "encoder1.enc1norm2.weight\n",
            "encoder1.enc1norm2.bias\n",
            "encoder1.enc1norm2.running_mean\n",
            "encoder1.enc1norm2.running_var\n",
            "encoder1.enc1norm2.num_batches_tracked\n",
            "encoder2.enc2conv1.weight\n",
            "encoder2.enc2norm1.weight\n",
            "encoder2.enc2norm1.bias\n",
            "encoder2.enc2norm1.running_mean\n",
            "encoder2.enc2norm1.running_var\n",
            "encoder2.enc2norm1.num_batches_tracked\n",
            "encoder2.enc2conv2.weight\n",
            "encoder2.enc2norm2.weight\n",
            "encoder2.enc2norm2.bias\n",
            "encoder2.enc2norm2.running_mean\n",
            "encoder2.enc2norm2.running_var\n",
            "encoder2.enc2norm2.num_batches_tracked\n",
            "encoder3.enc3conv1.weight\n",
            "encoder3.enc3norm1.weight\n",
            "encoder3.enc3norm1.bias\n",
            "encoder3.enc3norm1.running_mean\n",
            "encoder3.enc3norm1.running_var\n",
            "encoder3.enc3norm1.num_batches_tracked\n",
            "encoder3.enc3conv2.weight\n",
            "encoder3.enc3norm2.weight\n",
            "encoder3.enc3norm2.bias\n",
            "encoder3.enc3norm2.running_mean\n",
            "encoder3.enc3norm2.running_var\n",
            "encoder3.enc3norm2.num_batches_tracked\n",
            "encoder4.enc4conv1.weight\n",
            "encoder4.enc4norm1.weight\n",
            "encoder4.enc4norm1.bias\n",
            "encoder4.enc4norm1.running_mean\n",
            "encoder4.enc4norm1.running_var\n",
            "encoder4.enc4norm1.num_batches_tracked\n",
            "encoder4.enc4conv2.weight\n",
            "encoder4.enc4norm2.weight\n",
            "encoder4.enc4norm2.bias\n",
            "encoder4.enc4norm2.running_mean\n",
            "encoder4.enc4norm2.running_var\n",
            "encoder4.enc4norm2.num_batches_tracked\n",
            "bottleneck.bottleneckconv1.weight\n",
            "bottleneck.bottlenecknorm1.weight\n",
            "bottleneck.bottlenecknorm1.bias\n",
            "bottleneck.bottlenecknorm1.running_mean\n",
            "bottleneck.bottlenecknorm1.running_var\n",
            "bottleneck.bottlenecknorm1.num_batches_tracked\n",
            "bottleneck.bottleneckconv2.weight\n",
            "bottleneck.bottlenecknorm2.weight\n",
            "bottleneck.bottlenecknorm2.bias\n",
            "bottleneck.bottlenecknorm2.running_mean\n",
            "bottleneck.bottlenecknorm2.running_var\n",
            "bottleneck.bottlenecknorm2.num_batches_tracked\n",
            "upconv4.weight\n",
            "upconv4.bias\n",
            "decoder4.dec4conv1.weight\n",
            "decoder4.dec4norm1.weight\n",
            "decoder4.dec4norm1.bias\n",
            "decoder4.dec4norm1.running_mean\n",
            "decoder4.dec4norm1.running_var\n",
            "decoder4.dec4norm1.num_batches_tracked\n",
            "decoder4.dec4conv2.weight\n",
            "decoder4.dec4norm2.weight\n",
            "decoder4.dec4norm2.bias\n",
            "decoder4.dec4norm2.running_mean\n",
            "decoder4.dec4norm2.running_var\n",
            "decoder4.dec4norm2.num_batches_tracked\n",
            "upconv3.weight\n",
            "upconv3.bias\n",
            "decoder3.dec3conv1.weight\n",
            "decoder3.dec3norm1.weight\n",
            "decoder3.dec3norm1.bias\n",
            "decoder3.dec3norm1.running_mean\n",
            "decoder3.dec3norm1.running_var\n",
            "decoder3.dec3norm1.num_batches_tracked\n",
            "decoder3.dec3conv2.weight\n",
            "decoder3.dec3norm2.weight\n",
            "decoder3.dec3norm2.bias\n",
            "decoder3.dec3norm2.running_mean\n",
            "decoder3.dec3norm2.running_var\n",
            "decoder3.dec3norm2.num_batches_tracked\n",
            "upconv2.weight\n",
            "upconv2.bias\n",
            "decoder2.dec2conv1.weight\n",
            "decoder2.dec2norm1.weight\n",
            "decoder2.dec2norm1.bias\n",
            "decoder2.dec2norm1.running_mean\n",
            "decoder2.dec2norm1.running_var\n",
            "decoder2.dec2norm1.num_batches_tracked\n",
            "decoder2.dec2conv2.weight\n",
            "decoder2.dec2norm2.weight\n",
            "decoder2.dec2norm2.bias\n",
            "decoder2.dec2norm2.running_mean\n",
            "decoder2.dec2norm2.running_var\n",
            "decoder2.dec2norm2.num_batches_tracked\n",
            "upconv1.weight\n",
            "upconv1.bias\n",
            "decoder1.dec1conv1.weight\n",
            "decoder1.dec1norm1.weight\n",
            "decoder1.dec1norm1.bias\n",
            "decoder1.dec1norm1.running_mean\n",
            "decoder1.dec1norm1.running_var\n",
            "decoder1.dec1norm1.num_batches_tracked\n",
            "decoder1.dec1conv2.weight\n",
            "decoder1.dec1norm2.weight\n",
            "decoder1.dec1norm2.bias\n",
            "decoder1.dec1norm2.running_mean\n",
            "decoder1.dec1norm2.running_var\n",
            "decoder1.dec1norm2.num_batches_tracked\n",
            "conv.weight\n",
            "conv.bias\n"
          ],
          "name": "stdout"
        }
      ]
    },
    {
      "cell_type": "markdown",
      "metadata": {
        "id": "xNP3e7NijDbe",
        "colab_type": "text"
      },
      "source": [
        "## Dissection"
      ]
    },
    {
      "cell_type": "markdown",
      "metadata": {
        "id": "uUGXHNN7UIel",
        "colab_type": "text"
      },
      "source": [
        "### 关联库"
      ]
    },
    {
      "cell_type": "code",
      "metadata": {
        "id": "tuSCpiWIUMRT",
        "colab_type": "code",
        "colab": {}
      },
      "source": [
        "import argparse\n",
        "import os\n",
        "\n",
        "import numpy as np\n",
        "import torch\n",
        "from matplotlib import pyplot as plt\n",
        "from matplotlib.backends.backend_agg import FigureCanvasAgg\n",
        "from medpy.filter.binary import largest_connected_component\n",
        "from skimage.io import imsave\n",
        "from skimage.transform import resize\n",
        "from torch.utils.data import DataLoader\n",
        "from tqdm import tqdm\n",
        "\n",
        "from dataset import BrainSegmentationDataset as Dataset\n",
        "from unet import UNet\n",
        "from utils import dsc, gray2rgb, outline"
      ],
      "execution_count": 0,
      "outputs": []
    },
    {
      "cell_type": "markdown",
      "metadata": {
        "id": "zVmO86gcV2qd",
        "colab_type": "text"
      },
      "source": [
        "### function for dissection"
      ]
    },
    {
      "cell_type": "code",
      "metadata": {
        "id": "5Z0BDwlqV5zc",
        "colab_type": "code",
        "colab": {}
      },
      "source": [
        "def main(args):\n",
        "    makedirs(args)\n",
        "    device = torch.device(\"cpu\" if not torch.cuda.is_available() else args.device)\n",
        "\n",
        "    loader = data_loader(args)\n",
        "\n",
        "    with torch.set_grad_enabled(False):\n",
        "        unet = UNet(in_channels=Dataset.in_channels, out_channels=Dataset.out_channels)\n",
        "        state_dict = torch.load(args.weights, map_location=device)\n",
        "        unet.load_state_dict(state_dict)\n",
        "        unet.eval()\n",
        "        unet.to(device)\n",
        "\n",
        "        input_list = []\n",
        "        pred_list = []\n",
        "        true_list = []\n",
        "        Dice_list = []\n",
        "\n",
        "        for i, data in tqdm(enumerate(loader)):\n",
        "            x, y_true = data\n",
        "            y_true=convert_mask(y_true)\n",
        "            x, y_true = x.to(device), y_true.to(device)\n",
        "\n",
        "            y_pred = unet(x)\n",
        "            y_pred_np = y_pred.detach().cpu().numpy()\n",
        "# Network Dissection\n",
        "\n",
        "            # feature_map = unet.featuremap_enc1.transpose(1,0).cpu().numpy()\n",
        "            feature_map = unet.featuremap_dec4.transpose(1,0).cpu().numpy()\n",
        "            threshold_maps = np.percentile(feature_map, 95, axis=(2,3),keepdims=True)\n",
        "            masks = feature_map > threshold_maps\n",
        "            C,B,H,W = masks.shape\n",
        "            masks = resize(masks,output_shape=(C,B,256,256),order=0,mode=\"edge\",anti_aliasing=False) \n",
        "            y_true = y_true.detach().cpu().numpy()\n",
        "            Dice_list.append(dsc(masks,y_true))\n",
        "            embed()\n",
        "\n",
        "            \n",
        "        dice = 0\n",
        "        for data in Dice_list:\n",
        "          dice += data\n",
        "        dice /= len(Dice_list)\n",
        "\n",
        "        embed()\n",
        "        print(dice)\n",
        "\n",
        "def dsc(masks,gt):\n",
        "\n",
        "    C,B,H,W = masks.shape\n",
        "    masks=masks.reshape(C,B,1,H,W)\n",
        "    B,L,H,W = gt.shape\n",
        "    gt=gt.reshape(1,B,L,H,W)\n",
        "\n",
        "    # embed()\n",
        "    intersection = (gt*masks).sum(axis=(1,3,4))\n",
        "    dsc = (2. * intersection + 1) / (masks.sum(axis=(1,3,4)) + gt.sum(axis=(1,3,4)) + 1)\n",
        "\n",
        "    return dsc\n",
        "\n",
        "def convert_mask(mask):\n",
        "  # 4 Gd-enhance tumour\n",
        "  # 2 peritumoral edema\n",
        "  # 1 necrotic and non-enhancing tumour\n",
        "  B,L,H,W = mask.shape\n",
        "\n",
        "  label_1 = (mask[:,1,:,:]+mask[:,2,:,:]).reshape(B,1,H,W)              #1+2\n",
        "  label_2 = (mask[:,1,:,:]+mask[:,3,:,:]).reshape(B,1,H,W)              #1+4\n",
        "  label_3 = (mask[:,2,:,:]+mask[:,3,:,:]).reshape(B,1,H,W)              #2+4\n",
        "  label_4 = (mask[:,1,:,:]+mask[:,2,:,:]+mask[:,3,:,:]).reshape(B,1,H,W)       #1+2+4\n",
        "\n",
        "  extra_label = torch.cat((label_1,label_2,label_3,label_4),1)\n",
        "\n",
        "  mask = torch.cat((mask,extra_label),1)\n",
        "  \n",
        "  return mask\n",
        "\n",
        "\n",
        "def data_loader(args):\n",
        "    dataset = Dataset(\n",
        "        images_dir=args.images,\n",
        "        subset=\"train\",\n",
        "        image_size=args.image_size,\n",
        "        random_sampling=False,\n",
        "    )\n",
        "    loader = DataLoader(\n",
        "        dataset, batch_size=args.batch_size, drop_last=False, num_workers=1\n",
        "    )\n",
        "    return loader\n",
        "\n",
        "\n",
        "def makedirs(args):\n",
        "    os.makedirs(args.predictions, exist_ok=True)\n"
      ],
      "execution_count": 0,
      "outputs": []
    },
    {
      "cell_type": "markdown",
      "metadata": {
        "id": "KEIpfr-LV9Ar",
        "colab_type": "text"
      },
      "source": [
        "### 参数"
      ]
    },
    {
      "cell_type": "code",
      "metadata": {
        "id": "Q4DD6NSOV--N",
        "colab_type": "code",
        "outputId": "75bf7058-0ea4-4df3-95cf-74cb375e0cc1",
        "colab": {
          "base_uri": "https://localhost:8080/",
          "height": 1000
        }
      },
      "source": [
        "if __name__ == \"__main__\":\n",
        "    parser = argparse.ArgumentParser(\n",
        "        description=\"Inference for segmentation of brain MRI\"\n",
        "    )\n",
        "    parser.add_argument(\n",
        "        \"--device\",\n",
        "        type=str,\n",
        "        default=\"cuda:0\",\n",
        "        help=\"device for training (default: cuda:0)\",\n",
        "    )\n",
        "    parser.add_argument(\n",
        "        \"--batch-size\",\n",
        "        type=int,\n",
        "        default=8,\n",
        "        help=\"input batch size for training (default: 32)\",\n",
        "    )\n",
        "    parser.add_argument(\n",
        "        \"--weights\", type=str, default = \"/content/weights/unet.pt\", help=\"path to weights file\"\n",
        "    )\n",
        "    parser.add_argument(\n",
        "        # \"--images\", type=str, default=\"/content/drive/My Drive/Project/DATA/TEST_DATA/HGG2\", help=\"root folder with images\"\n",
        "        \"--images\", type=str, default=\"/content/drive/My Drive/Project/DATA/TEST_DATA/HGG2/BraTS19_2013_11_1\", help=\"root folder with images\"\n",
        "    )\n",
        "    parser.add_argument(\n",
        "        \"--image-size\",\n",
        "        type=int,\n",
        "        default=256,\n",
        "        help=\"target input image size (default: 256)\",\n",
        "    )\n",
        "    parser.add_argument(\n",
        "        \"--predictions\",\n",
        "        type=str,\n",
        "        default=\"/content/Results\",\n",
        "        help=\"folder for saving images with prediction outlines\",\n",
        "    )\n",
        "    parser.add_argument(\n",
        "        \"--figure\",\n",
        "        type=str,\n",
        "        default=\"./dsc.png\",\n",
        "        help=\"filename for DSC distribution figure\",\n",
        "    )\n",
        "\n",
        "    args = parser.parse_args(args=[])\n",
        "    main(args)\n"
      ],
      "execution_count": 0,
      "outputs": [
        {
          "output_type": "stream",
          "text": [
            "reading train images...\n",
            "preprocessing train volumes...\n",
            "one hotting train volumes...\n",
            "cropping train volumes...\n",
            "padding train volumes...\n",
            "resizing train volumes...\n"
          ],
          "name": "stdout"
        },
        {
          "output_type": "stream",
          "text": [
            "/usr/local/lib/python3.6/dist-packages/skimage/util/dtype.py:141: UserWarning: Possible precision loss when converting from int64 to float64\n",
            "  .format(dtypeobj_in, dtypeobj_out))\n"
          ],
          "name": "stderr"
        },
        {
          "output_type": "stream",
          "text": [
            "finish\n",
            "normalizing train volumes...\n",
            "converting mask to one of train volumes...\n",
            "done creating train dataset\n"
          ],
          "name": "stdout"
        },
        {
          "output_type": "stream",
          "text": [
            "\n",
            "\n",
            "0it [00:00, ?it/s]\u001b[A\u001b[A"
          ],
          "name": "stderr"
        },
        {
          "output_type": "stream",
          "text": [
            "Python 3.6.9 (default, Apr 18 2020, 01:56:04) \n",
            "Type \"copyright\", \"credits\" or \"license\" for more information.\n",
            "\n",
            "IPython 5.5.0 -- An enhanced Interactive Python.\n",
            "?         -> Introduction and overview of IPython's features.\n",
            "%quickref -> Quick reference.\n",
            "help      -> Python's own help system.\n",
            "object?   -> Details about 'object', use 'object??' for extra details.\n",
            "\n",
            "In [1]: y_pred_np.shape\n",
            "Out[1]: (8, 4, 256, 256)\n",
            "\n",
            "In [2]: y_true.shape\n",
            "Out[2]: (8, 8, 256, 256)\n",
            "\n",
            "In [3]: for i in range(8):\n",
            "   ...:     plt.imshow(y_true[i,1,:,:],cmap='gray')\n",
            "   ...:     plt.savefig(\"Figure{0}\".format(i))\n",
            "   ...: \n",
            "\n",
            "In [4]: for i in range(8):\n",
            "   ...:     plt.imshow(y_pred_np[i,1,:,:],cmap='gray')\n",
            "   ...:     plt.savefig(\"Pred{0}\".format(i))\n",
            "   ...: \n",
            "\n",
            "In [5]: for i in range(8):\n",
            "   ...:     plt.imshow(y_pred_np[i,1,:,:],cmap='gray')\n",
            "   ...:     plt.savefig(\"Pred{0}\".format(i))\n",
            "   ...: \n",
            "\n",
            "In [6]: y_pred.shape\n",
            "Out[6]: torch.Size([8, 4, 256, 256])\n",
            "\n",
            "In [7]: np.unique(y_pred[5,1,:,:])\n",
            "\u001b[0;31m---------------------------------------------------------------------------\u001b[0m\n",
            "\u001b[0;31mTypeError\u001b[0m                                 Traceback (most recent call last)\n",
            "\u001b[0;32m<ipython-input-7-48f875c80ae3>\u001b[0m in \u001b[0;36m<module>\u001b[0;34m()\u001b[0m\n",
            "\u001b[0;32m----> 1\u001b[0;31m \u001b[0mnp\u001b[0m\u001b[0;34m.\u001b[0m\u001b[0munique\u001b[0m\u001b[0;34m(\u001b[0m\u001b[0my_pred\u001b[0m\u001b[0;34m[\u001b[0m\u001b[0;36m5\u001b[0m\u001b[0;34m,\u001b[0m\u001b[0;36m1\u001b[0m\u001b[0;34m,\u001b[0m\u001b[0;34m:\u001b[0m\u001b[0;34m,\u001b[0m\u001b[0;34m:\u001b[0m\u001b[0;34m]\u001b[0m\u001b[0;34m)\u001b[0m\u001b[0;34m\u001b[0m\u001b[0;34m\u001b[0m\u001b[0m\n",
            "\u001b[0m\n",
            "\u001b[0;32m/usr/local/lib/python3.6/dist-packages/numpy/lib/arraysetops.py\u001b[0m in \u001b[0;36munique\u001b[0;34m(ar, return_index, return_inverse, return_counts, axis)\u001b[0m\n",
            "\u001b[1;32m    260\u001b[0m \u001b[0;34m\u001b[0m\u001b[0m\n",
            "\u001b[1;32m    261\u001b[0m     \"\"\"\n",
            "\u001b[0;32m--> 262\u001b[0;31m     \u001b[0mar\u001b[0m \u001b[0;34m=\u001b[0m \u001b[0mnp\u001b[0m\u001b[0;34m.\u001b[0m\u001b[0masanyarray\u001b[0m\u001b[0;34m(\u001b[0m\u001b[0mar\u001b[0m\u001b[0;34m)\u001b[0m\u001b[0;34m\u001b[0m\u001b[0;34m\u001b[0m\u001b[0m\n",
            "\u001b[0m\u001b[1;32m    263\u001b[0m     \u001b[0;32mif\u001b[0m \u001b[0maxis\u001b[0m \u001b[0;32mis\u001b[0m \u001b[0;32mNone\u001b[0m\u001b[0;34m:\u001b[0m\u001b[0;34m\u001b[0m\u001b[0;34m\u001b[0m\u001b[0m\n",
            "\u001b[1;32m    264\u001b[0m         \u001b[0mret\u001b[0m \u001b[0;34m=\u001b[0m \u001b[0m_unique1d\u001b[0m\u001b[0;34m(\u001b[0m\u001b[0mar\u001b[0m\u001b[0;34m,\u001b[0m \u001b[0mreturn_index\u001b[0m\u001b[0;34m,\u001b[0m \u001b[0mreturn_inverse\u001b[0m\u001b[0;34m,\u001b[0m \u001b[0mreturn_counts\u001b[0m\u001b[0;34m)\u001b[0m\u001b[0;34m\u001b[0m\u001b[0;34m\u001b[0m\u001b[0m\n",
            "\n",
            "\u001b[0;32m/usr/local/lib/python3.6/dist-packages/numpy/core/numeric.py\u001b[0m in \u001b[0;36masanyarray\u001b[0;34m(a, dtype, order)\u001b[0m\n",
            "\u001b[1;32m    589\u001b[0m \u001b[0;34m\u001b[0m\u001b[0m\n",
            "\u001b[1;32m    590\u001b[0m     \"\"\"\n",
            "\u001b[0;32m--> 591\u001b[0;31m     \u001b[0;32mreturn\u001b[0m \u001b[0marray\u001b[0m\u001b[0;34m(\u001b[0m\u001b[0ma\u001b[0m\u001b[0;34m,\u001b[0m \u001b[0mdtype\u001b[0m\u001b[0;34m,\u001b[0m \u001b[0mcopy\u001b[0m\u001b[0;34m=\u001b[0m\u001b[0;32mFalse\u001b[0m\u001b[0;34m,\u001b[0m \u001b[0morder\u001b[0m\u001b[0;34m=\u001b[0m\u001b[0morder\u001b[0m\u001b[0;34m,\u001b[0m \u001b[0msubok\u001b[0m\u001b[0;34m=\u001b[0m\u001b[0;32mTrue\u001b[0m\u001b[0;34m)\u001b[0m\u001b[0;34m\u001b[0m\u001b[0;34m\u001b[0m\u001b[0m\n",
            "\u001b[0m\u001b[1;32m    592\u001b[0m \u001b[0;34m\u001b[0m\u001b[0m\n",
            "\u001b[1;32m    593\u001b[0m \u001b[0;34m\u001b[0m\u001b[0m\n",
            "\n",
            "\u001b[0;32m/usr/local/lib/python3.6/dist-packages/torch/tensor.py\u001b[0m in \u001b[0;36m__array__\u001b[0;34m(self, dtype)\u001b[0m\n",
            "\u001b[1;32m    490\u001b[0m     \u001b[0;32mdef\u001b[0m \u001b[0m__array__\u001b[0m\u001b[0;34m(\u001b[0m\u001b[0mself\u001b[0m\u001b[0;34m,\u001b[0m \u001b[0mdtype\u001b[0m\u001b[0;34m=\u001b[0m\u001b[0;32mNone\u001b[0m\u001b[0;34m)\u001b[0m\u001b[0;34m:\u001b[0m\u001b[0;34m\u001b[0m\u001b[0;34m\u001b[0m\u001b[0m\n",
            "\u001b[1;32m    491\u001b[0m         \u001b[0;32mif\u001b[0m \u001b[0mdtype\u001b[0m \u001b[0;32mis\u001b[0m \u001b[0;32mNone\u001b[0m\u001b[0;34m:\u001b[0m\u001b[0;34m\u001b[0m\u001b[0;34m\u001b[0m\u001b[0m\n",
            "\u001b[0;32m--> 492\u001b[0;31m             \u001b[0;32mreturn\u001b[0m \u001b[0mself\u001b[0m\u001b[0;34m.\u001b[0m\u001b[0mnumpy\u001b[0m\u001b[0;34m(\u001b[0m\u001b[0;34m)\u001b[0m\u001b[0;34m\u001b[0m\u001b[0;34m\u001b[0m\u001b[0m\n",
            "\u001b[0m\u001b[1;32m    493\u001b[0m         \u001b[0;32melse\u001b[0m\u001b[0;34m:\u001b[0m\u001b[0;34m\u001b[0m\u001b[0;34m\u001b[0m\u001b[0m\n",
            "\u001b[1;32m    494\u001b[0m             \u001b[0;32mreturn\u001b[0m \u001b[0mself\u001b[0m\u001b[0;34m.\u001b[0m\u001b[0mnumpy\u001b[0m\u001b[0;34m(\u001b[0m\u001b[0;34m)\u001b[0m\u001b[0;34m.\u001b[0m\u001b[0mastype\u001b[0m\u001b[0;34m(\u001b[0m\u001b[0mdtype\u001b[0m\u001b[0;34m,\u001b[0m \u001b[0mcopy\u001b[0m\u001b[0;34m=\u001b[0m\u001b[0;32mFalse\u001b[0m\u001b[0;34m)\u001b[0m\u001b[0;34m\u001b[0m\u001b[0;34m\u001b[0m\u001b[0m\n",
            "\n",
            "\u001b[0;31mTypeError\u001b[0m: can't convert cuda:0 device type tensor to numpy. Use Tensor.cpu() to copy the tensor to host memory first.\n",
            "\n",
            "In [8]: np.unique(y_pred_np[5,1,:,:])\n",
            "Out[8]: \n",
            "array([0.16134155, 0.16201942, 0.16252197, ..., 0.18052611, 0.18057363,\n",
            "       0.1808668 ], dtype=float32)\n",
            "\n",
            "In [9]: y_pred_np.shape\n",
            "Out[9]: (8, 4, 256, 256)\n",
            "\n",
            "In [10]: max_out = np.max(y_pred_np,axis=1)\n",
            "\n",
            "In [11]: one_hot = (y_pred_np = max_out)\n",
            "\u001b[0;36m  File \u001b[0;32m\"<ipython-input-11-55f206948b54>\"\u001b[0;36m, line \u001b[0;32m1\u001b[0m\n",
            "\u001b[0;31m    one_hot = (y_pred_np = max_out)\u001b[0m\n",
            "\u001b[0m                         ^\u001b[0m\n",
            "\u001b[0;31mSyntaxError\u001b[0m\u001b[0;31m:\u001b[0m invalid syntax\n",
            "\n",
            "\n",
            "In [12]: one_hot = (y_pred_np == max_out)\n"
          ],
          "name": "stdout"
        },
        {
          "output_type": "stream",
          "text": [
            "/usr/local/lib/python3.6/dist-packages/ipykernel_launcher.py:1: DeprecationWarning: elementwise comparison failed; this will raise an error in the future.\n",
            "  \"\"\"Entry point for launching an IPython kernel.\n"
          ],
          "name": "stderr"
        },
        {
          "output_type": "stream",
          "text": [
            "\n",
            "In [13]: one_hot\n",
            "Out[13]: False\n",
            "\n",
            "In [14]: max_output = np.max(y_pred_np,axis=1)\n",
            "\n",
            "In [15]: one_hot = (y_pred_np == max_output)\n"
          ],
          "name": "stdout"
        },
        {
          "output_type": "stream",
          "text": [
            "/usr/local/lib/python3.6/dist-packages/ipykernel_launcher.py:1: DeprecationWarning: elementwise comparison failed; this will raise an error in the future.\n",
            "  \"\"\"Entry point for launching an IPython kernel.\n"
          ],
          "name": "stderr"
        },
        {
          "output_type": "stream",
          "text": [
            "\n",
            "In [16]: one_hot\n",
            "Out[16]: False\n",
            "\n",
            "In [17]: max_output.shape\n",
            "Out[17]: (8, 256, 256)\n",
            "\n",
            "In [18]: one_hot.shape\n",
            "\u001b[0;31m---------------------------------------------------------------------------\u001b[0m\n",
            "\u001b[0;31mAttributeError\u001b[0m                            Traceback (most recent call last)\n",
            "\u001b[0;32m<ipython-input-18-311a53ec5a1c>\u001b[0m in \u001b[0;36m<module>\u001b[0;34m()\u001b[0m\n",
            "\u001b[0;32m----> 1\u001b[0;31m \u001b[0mone_hot\u001b[0m\u001b[0;34m.\u001b[0m\u001b[0mshape\u001b[0m\u001b[0;34m\u001b[0m\u001b[0;34m\u001b[0m\u001b[0m\n",
            "\u001b[0m\n",
            "\u001b[0;31mAttributeError\u001b[0m: 'bool' object has no attribute 'shape'\n",
            "\n",
            "In [19]: max_output.shape\n",
            "Out[19]: (8, 256, 256)\n",
            "\n",
            "In [20]: y_pred.shape\n",
            "Out[20]: torch.Size([8, 4, 256, 256])\n",
            "\n",
            "In [21]: max_output.reshape(8,1,256,256)\n",
            "Out[21]: \n",
            "array([[[[0.46463883, 0.4689224 , 0.4684771 , ..., 0.46688044,\n",
            "          0.46904683, 0.46834275],\n",
            "         [0.47036812, 0.47078604, 0.4673641 , ..., 0.46712914,\n",
            "          0.47105184, 0.47003615],\n",
            "         [0.47006738, 0.46754083, 0.46809888, ..., 0.46784392,\n",
            "          0.4675883 , 0.46928594],\n",
            "         ...,\n",
            "         [0.47004187, 0.47103384, 0.4680286 , ..., 0.46826014,\n",
            "          0.46817103, 0.47036257],\n",
            "         [0.4702415 , 0.47178808, 0.46894708, ..., 0.46928892,\n",
            "          0.4725564 , 0.4703273 ],\n",
            "         [0.4688487 , 0.4716416 , 0.47016975, ..., 0.4692233 ,\n",
            "          0.4704755 , 0.46732104]]],\n",
            "\n",
            "\n",
            "       [[[0.46463877, 0.4689224 , 0.46847716, ..., 0.46688044,\n",
            "          0.46904683, 0.46834275],\n",
            "         [0.47036812, 0.47078604, 0.4673641 , ..., 0.46712914,\n",
            "          0.47105184, 0.47003615],\n",
            "         [0.47006738, 0.46754083, 0.46809888, ..., 0.46784392,\n",
            "          0.4675883 , 0.46928594],\n",
            "         ...,\n",
            "         [0.47004187, 0.4710338 , 0.46802866, ..., 0.46826014,\n",
            "          0.46817103, 0.47036257],\n",
            "         [0.47024146, 0.47178808, 0.46894693, ..., 0.46928892,\n",
            "          0.4725564 , 0.4703273 ],\n",
            "         [0.46884865, 0.4716416 , 0.4701697 , ..., 0.4692233 ,\n",
            "          0.4704755 , 0.46732104]]],\n",
            "\n",
            "\n",
            "       [[[0.46463877, 0.4689224 , 0.46847716, ..., 0.46688044,\n",
            "          0.46904683, 0.46834275],\n",
            "         [0.47036812, 0.47078604, 0.46736416, ..., 0.46712914,\n",
            "          0.47105184, 0.47003615],\n",
            "         [0.47006738, 0.46754086, 0.46809888, ..., 0.46784392,\n",
            "          0.4675883 , 0.46928594],\n",
            "         ...,\n",
            "         [0.47004178, 0.4710337 , 0.46802872, ..., 0.46826014,\n",
            "          0.46817103, 0.47036257],\n",
            "         [0.47024146, 0.47178802, 0.46894687, ..., 0.46928892,\n",
            "          0.4725564 , 0.4703273 ],\n",
            "         [0.46884865, 0.4716416 , 0.4701697 , ..., 0.4692233 ,\n",
            "          0.4704755 , 0.46732104]]],\n",
            "\n",
            "\n",
            "       ...,\n",
            "\n",
            "\n",
            "       [[[0.46463877, 0.46892244, 0.4684772 , ..., 0.46688044,\n",
            "          0.46904683, 0.46834275],\n",
            "         [0.47036812, 0.47078604, 0.46736422, ..., 0.46712914,\n",
            "          0.47105184, 0.47003615],\n",
            "         [0.4700674 , 0.46754092, 0.46809894, ..., 0.46784392,\n",
            "          0.4675883 , 0.46928594],\n",
            "         ...,\n",
            "         [0.47004172, 0.4710336 , 0.46802872, ..., 0.46826014,\n",
            "          0.46817103, 0.47036257],\n",
            "         [0.4702414 , 0.47178796, 0.46894667, ..., 0.46928892,\n",
            "          0.47255638, 0.4703273 ],\n",
            "         [0.4688486 , 0.47164154, 0.4701697 , ..., 0.46922323,\n",
            "          0.4704755 , 0.46732104]]],\n",
            "\n",
            "\n",
            "       [[[0.46463877, 0.46892244, 0.4684772 , ..., 0.46688044,\n",
            "          0.46904683, 0.46834275],\n",
            "         [0.47036812, 0.47078604, 0.46736422, ..., 0.46712914,\n",
            "          0.47105184, 0.47003615],\n",
            "         [0.4700674 , 0.46754098, 0.46809894, ..., 0.46784392,\n",
            "          0.4675883 , 0.46928594],\n",
            "         ...,\n",
            "         [0.47004166, 0.47103348, 0.46802878, ..., 0.46826014,\n",
            "          0.46817103, 0.47036257],\n",
            "         [0.4702414 , 0.47178796, 0.46894655, ..., 0.46928892,\n",
            "          0.47255638, 0.4703273 ],\n",
            "         [0.4688486 , 0.47164154, 0.4701696 , ..., 0.46922323,\n",
            "          0.4704755 , 0.46732104]]],\n",
            "\n",
            "\n",
            "       [[[0.46463877, 0.46892244, 0.4684772 , ..., 0.46688044,\n",
            "          0.46904683, 0.46834275],\n",
            "         [0.47036812, 0.47078604, 0.46736422, ..., 0.46712914,\n",
            "          0.47105184, 0.47003615],\n",
            "         [0.4700674 , 0.46754098, 0.46809894, ..., 0.46784392,\n",
            "          0.4675883 , 0.46928594],\n",
            "         ...,\n",
            "         [0.47004172, 0.47103348, 0.46802878, ..., 0.46826014,\n",
            "          0.46817103, 0.47036257],\n",
            "         [0.4702414 , 0.47178796, 0.46894655, ..., 0.46928892,\n",
            "          0.47255638, 0.4703273 ],\n",
            "         [0.4688486 , 0.47164154, 0.4701696 , ..., 0.46922323,\n",
            "          0.4704755 , 0.46732104]]]], dtype=float32)\n",
            "\n",
            "In [22]: max_output = max_output.reshape(8,1,256,256)\n",
            "\n",
            "In [23]: one_hot = (y_pred_np == max_output)\n",
            "\n",
            "In [24]: one_hot\n",
            "Out[24]: \n",
            "array([[[[ True,  True,  True, ...,  True,  True,  True],\n",
            "         [ True,  True,  True, ...,  True,  True,  True],\n",
            "         [ True,  True,  True, ...,  True,  True,  True],\n",
            "         ...,\n",
            "         [ True,  True,  True, ...,  True,  True,  True],\n",
            "         [ True,  True,  True, ...,  True,  True,  True],\n",
            "         [ True,  True,  True, ...,  True,  True,  True]],\n",
            "\n",
            "        [[False, False, False, ..., False, False, False],\n",
            "         [False, False, False, ..., False, False, False],\n",
            "         [False, False, False, ..., False, False, False],\n",
            "         ...,\n",
            "         [False, False, False, ..., False, False, False],\n",
            "         [False, False, False, ..., False, False, False],\n",
            "         [False, False, False, ..., False, False, False]],\n",
            "\n",
            "        [[False, False, False, ..., False, False, False],\n",
            "         [False, False, False, ..., False, False, False],\n",
            "         [False, False, False, ..., False, False, False],\n",
            "         ...,\n",
            "         [False, False, False, ..., False, False, False],\n",
            "         [False, False, False, ..., False, False, False],\n",
            "         [False, False, False, ..., False, False, False]],\n",
            "\n",
            "        [[False, False, False, ..., False, False, False],\n",
            "         [False, False, False, ..., False, False, False],\n",
            "         [False, False, False, ..., False, False, False],\n",
            "         ...,\n",
            "         [False, False, False, ..., False, False, False],\n",
            "         [False, False, False, ..., False, False, False],\n",
            "         [False, False, False, ..., False, False, False]]],\n",
            "\n",
            "\n",
            "       [[[ True,  True,  True, ...,  True,  True,  True],\n",
            "         [ True,  True,  True, ...,  True,  True,  True],\n",
            "         [ True,  True,  True, ...,  True,  True,  True],\n",
            "         ...,\n",
            "         [ True,  True,  True, ...,  True,  True,  True],\n",
            "         [ True,  True,  True, ...,  True,  True,  True],\n",
            "         [ True,  True,  True, ...,  True,  True,  True]],\n",
            "\n",
            "        [[False, False, False, ..., False, False, False],\n",
            "         [False, False, False, ..., False, False, False],\n",
            "         [False, False, False, ..., False, False, False],\n",
            "         ...,\n",
            "         [False, False, False, ..., False, False, False],\n",
            "         [False, False, False, ..., False, False, False],\n",
            "         [False, False, False, ..., False, False, False]],\n",
            "\n",
            "        [[False, False, False, ..., False, False, False],\n",
            "         [False, False, False, ..., False, False, False],\n",
            "         [False, False, False, ..., False, False, False],\n",
            "         ...,\n",
            "         [False, False, False, ..., False, False, False],\n",
            "         [False, False, False, ..., False, False, False],\n",
            "         [False, False, False, ..., False, False, False]],\n",
            "\n",
            "        [[False, False, False, ..., False, False, False],\n",
            "         [False, False, False, ..., False, False, False],\n",
            "         [False, False, False, ..., False, False, False],\n",
            "         ...,\n",
            "         [False, False, False, ..., False, False, False],\n",
            "         [False, False, False, ..., False, False, False],\n",
            "         [False, False, False, ..., False, False, False]]],\n",
            "\n",
            "\n",
            "       [[[ True,  True,  True, ...,  True,  True,  True],\n",
            "         [ True,  True,  True, ...,  True,  True,  True],\n",
            "         [ True,  True,  True, ...,  True,  True,  True],\n",
            "         ...,\n",
            "         [ True,  True,  True, ...,  True,  True,  True],\n",
            "         [ True,  True,  True, ...,  True,  True,  True],\n",
            "         [ True,  True,  True, ...,  True,  True,  True]],\n",
            "\n",
            "        [[False, False, False, ..., False, False, False],\n",
            "         [False, False, False, ..., False, False, False],\n",
            "         [False, False, False, ..., False, False, False],\n",
            "         ...,\n",
            "         [False, False, False, ..., False, False, False],\n",
            "         [False, False, False, ..., False, False, False],\n",
            "         [False, False, False, ..., False, False, False]],\n",
            "\n",
            "        [[False, False, False, ..., False, False, False],\n",
            "         [False, False, False, ..., False, False, False],\n",
            "         [False, False, False, ..., False, False, False],\n",
            "         ...,\n",
            "         [False, False, False, ..., False, False, False],\n",
            "         [False, False, False, ..., False, False, False],\n",
            "         [False, False, False, ..., False, False, False]],\n",
            "\n",
            "        [[False, False, False, ..., False, False, False],\n",
            "         [False, False, False, ..., False, False, False],\n",
            "         [False, False, False, ..., False, False, False],\n",
            "         ...,\n",
            "         [False, False, False, ..., False, False, False],\n",
            "         [False, False, False, ..., False, False, False],\n",
            "         [False, False, False, ..., False, False, False]]],\n",
            "\n",
            "\n",
            "       ...,\n",
            "\n",
            "\n",
            "       [[[ True,  True,  True, ...,  True,  True,  True],\n",
            "         [ True,  True,  True, ...,  True,  True,  True],\n",
            "         [ True,  True,  True, ...,  True,  True,  True],\n",
            "         ...,\n",
            "         [ True,  True,  True, ...,  True,  True,  True],\n",
            "         [ True,  True,  True, ...,  True,  True,  True],\n",
            "         [ True,  True,  True, ...,  True,  True,  True]],\n",
            "\n",
            "        [[False, False, False, ..., False, False, False],\n",
            "         [False, False, False, ..., False, False, False],\n",
            "         [False, False, False, ..., False, False, False],\n",
            "         ...,\n",
            "         [False, False, False, ..., False, False, False],\n",
            "         [False, False, False, ..., False, False, False],\n",
            "         [False, False, False, ..., False, False, False]],\n",
            "\n",
            "        [[False, False, False, ..., False, False, False],\n",
            "         [False, False, False, ..., False, False, False],\n",
            "         [False, False, False, ..., False, False, False],\n",
            "         ...,\n",
            "         [False, False, False, ..., False, False, False],\n",
            "         [False, False, False, ..., False, False, False],\n",
            "         [False, False, False, ..., False, False, False]],\n",
            "\n",
            "        [[False, False, False, ..., False, False, False],\n",
            "         [False, False, False, ..., False, False, False],\n",
            "         [False, False, False, ..., False, False, False],\n",
            "         ...,\n",
            "         [False, False, False, ..., False, False, False],\n",
            "         [False, False, False, ..., False, False, False],\n",
            "         [False, False, False, ..., False, False, False]]],\n",
            "\n",
            "\n",
            "       [[[ True,  True,  True, ...,  True,  True,  True],\n",
            "         [ True,  True,  True, ...,  True,  True,  True],\n",
            "         [ True,  True,  True, ...,  True,  True,  True],\n",
            "         ...,\n",
            "         [ True,  True,  True, ...,  True,  True,  True],\n",
            "         [ True,  True,  True, ...,  True,  True,  True],\n",
            "         [ True,  True,  True, ...,  True,  True,  True]],\n",
            "\n",
            "        [[False, False, False, ..., False, False, False],\n",
            "         [False, False, False, ..., False, False, False],\n",
            "         [False, False, False, ..., False, False, False],\n",
            "         ...,\n",
            "         [False, False, False, ..., False, False, False],\n",
            "         [False, False, False, ..., False, False, False],\n",
            "         [False, False, False, ..., False, False, False]],\n",
            "\n",
            "        [[False, False, False, ..., False, False, False],\n",
            "         [False, False, False, ..., False, False, False],\n",
            "         [False, False, False, ..., False, False, False],\n",
            "         ...,\n",
            "         [False, False, False, ..., False, False, False],\n",
            "         [False, False, False, ..., False, False, False],\n",
            "         [False, False, False, ..., False, False, False]],\n",
            "\n",
            "        [[False, False, False, ..., False, False, False],\n",
            "         [False, False, False, ..., False, False, False],\n",
            "         [False, False, False, ..., False, False, False],\n",
            "         ...,\n",
            "         [False, False, False, ..., False, False, False],\n",
            "         [False, False, False, ..., False, False, False],\n",
            "         [False, False, False, ..., False, False, False]]],\n",
            "\n",
            "\n",
            "       [[[ True,  True,  True, ...,  True,  True,  True],\n",
            "         [ True,  True,  True, ...,  True,  True,  True],\n",
            "         [ True,  True,  True, ...,  True,  True,  True],\n",
            "         ...,\n",
            "         [ True,  True,  True, ...,  True,  True,  True],\n",
            "         [ True,  True,  True, ...,  True,  True,  True],\n",
            "         [ True,  True,  True, ...,  True,  True,  True]],\n",
            "\n",
            "        [[False, False, False, ..., False, False, False],\n",
            "         [False, False, False, ..., False, False, False],\n",
            "         [False, False, False, ..., False, False, False],\n",
            "         ...,\n",
            "         [False, False, False, ..., False, False, False],\n",
            "         [False, False, False, ..., False, False, False],\n",
            "         [False, False, False, ..., False, False, False]],\n",
            "\n",
            "        [[False, False, False, ..., False, False, False],\n",
            "         [False, False, False, ..., False, False, False],\n",
            "         [False, False, False, ..., False, False, False],\n",
            "         ...,\n",
            "         [False, False, False, ..., False, False, False],\n",
            "         [False, False, False, ..., False, False, False],\n",
            "         [False, False, False, ..., False, False, False]],\n",
            "\n",
            "        [[False, False, False, ..., False, False, False],\n",
            "         [False, False, False, ..., False, False, False],\n",
            "         [False, False, False, ..., False, False, False],\n",
            "         ...,\n",
            "         [False, False, False, ..., False, False, False],\n",
            "         [False, False, False, ..., False, False, False],\n",
            "         [False, False, False, ..., False, False, False]]]])\n",
            "\n",
            "In [25]: one_hot = one_hot+0\n",
            "\n",
            "In [26]: for i in range(8)\n",
            "\u001b[0;36m  File \u001b[0;32m\"<ipython-input-26-dbb086e3fc59>\"\u001b[0;36m, line \u001b[0;32m1\u001b[0m\n",
            "\u001b[0;31m    for i in range(8)\u001b[0m\n",
            "\u001b[0m                     ^\u001b[0m\n",
            "\u001b[0;31mSyntaxError\u001b[0m\u001b[0;31m:\u001b[0m invalid syntax\n",
            "\n",
            "\n",
            "In [27]: for i in range(8):\n",
            "    ...:     plt.imshow(one_hot[i,1,:,:])\n",
            "    ...:     plt.savefig(\"Pred{0}\".format(i))\n",
            "    ...: \n",
            "\n",
            "In [28]: for i in range(8):\n",
            "    ...:     plt.imshow(one_hot[i,0,:,:])\n",
            "    ...:     plt.savefig(\"Pred{0}\".format(i))\n",
            "    ...: \n",
            "\n"
          ],
          "name": "stdout"
        },
        {
          "output_type": "error",
          "ename": "KeyboardInterrupt",
          "evalue": "ignored",
          "traceback": [
            "\u001b[0;31m---------------------------------------------------------------------------\u001b[0m",
            "\u001b[0;31mKeyboardInterrupt\u001b[0m                         Traceback (most recent call last)",
            "\u001b[0;32m/usr/local/lib/python3.6/dist-packages/ipykernel/kernelbase.py\u001b[0m in \u001b[0;36m_input_request\u001b[0;34m(self, prompt, ident, parent, password)\u001b[0m\n\u001b[1;32m    728\u001b[0m             \u001b[0;32mtry\u001b[0m\u001b[0;34m:\u001b[0m\u001b[0;34m\u001b[0m\u001b[0;34m\u001b[0m\u001b[0m\n\u001b[0;32m--> 729\u001b[0;31m                 \u001b[0mident\u001b[0m\u001b[0;34m,\u001b[0m \u001b[0mreply\u001b[0m \u001b[0;34m=\u001b[0m \u001b[0mself\u001b[0m\u001b[0;34m.\u001b[0m\u001b[0msession\u001b[0m\u001b[0;34m.\u001b[0m\u001b[0mrecv\u001b[0m\u001b[0;34m(\u001b[0m\u001b[0mself\u001b[0m\u001b[0;34m.\u001b[0m\u001b[0mstdin_socket\u001b[0m\u001b[0;34m,\u001b[0m \u001b[0;36m0\u001b[0m\u001b[0;34m)\u001b[0m\u001b[0;34m\u001b[0m\u001b[0;34m\u001b[0m\u001b[0m\n\u001b[0m\u001b[1;32m    730\u001b[0m             \u001b[0;32mexcept\u001b[0m \u001b[0mException\u001b[0m\u001b[0;34m:\u001b[0m\u001b[0;34m\u001b[0m\u001b[0;34m\u001b[0m\u001b[0m\n",
            "\u001b[0;32m/usr/local/lib/python3.6/dist-packages/jupyter_client/session.py\u001b[0m in \u001b[0;36mrecv\u001b[0;34m(self, socket, mode, content, copy)\u001b[0m\n\u001b[1;32m    802\u001b[0m         \u001b[0;32mtry\u001b[0m\u001b[0;34m:\u001b[0m\u001b[0;34m\u001b[0m\u001b[0;34m\u001b[0m\u001b[0m\n\u001b[0;32m--> 803\u001b[0;31m             \u001b[0mmsg_list\u001b[0m \u001b[0;34m=\u001b[0m \u001b[0msocket\u001b[0m\u001b[0;34m.\u001b[0m\u001b[0mrecv_multipart\u001b[0m\u001b[0;34m(\u001b[0m\u001b[0mmode\u001b[0m\u001b[0;34m,\u001b[0m \u001b[0mcopy\u001b[0m\u001b[0;34m=\u001b[0m\u001b[0mcopy\u001b[0m\u001b[0;34m)\u001b[0m\u001b[0;34m\u001b[0m\u001b[0;34m\u001b[0m\u001b[0m\n\u001b[0m\u001b[1;32m    804\u001b[0m         \u001b[0;32mexcept\u001b[0m \u001b[0mzmq\u001b[0m\u001b[0;34m.\u001b[0m\u001b[0mZMQError\u001b[0m \u001b[0;32mas\u001b[0m \u001b[0me\u001b[0m\u001b[0;34m:\u001b[0m\u001b[0;34m\u001b[0m\u001b[0;34m\u001b[0m\u001b[0m\n",
            "\u001b[0;32m/usr/local/lib/python3.6/dist-packages/zmq/sugar/socket.py\u001b[0m in \u001b[0;36mrecv_multipart\u001b[0;34m(self, flags, copy, track)\u001b[0m\n\u001b[1;32m    474\u001b[0m         \"\"\"\n\u001b[0;32m--> 475\u001b[0;31m         \u001b[0mparts\u001b[0m \u001b[0;34m=\u001b[0m \u001b[0;34m[\u001b[0m\u001b[0mself\u001b[0m\u001b[0;34m.\u001b[0m\u001b[0mrecv\u001b[0m\u001b[0;34m(\u001b[0m\u001b[0mflags\u001b[0m\u001b[0;34m,\u001b[0m \u001b[0mcopy\u001b[0m\u001b[0;34m=\u001b[0m\u001b[0mcopy\u001b[0m\u001b[0;34m,\u001b[0m \u001b[0mtrack\u001b[0m\u001b[0;34m=\u001b[0m\u001b[0mtrack\u001b[0m\u001b[0;34m)\u001b[0m\u001b[0;34m]\u001b[0m\u001b[0;34m\u001b[0m\u001b[0;34m\u001b[0m\u001b[0m\n\u001b[0m\u001b[1;32m    476\u001b[0m         \u001b[0;31m# have first part already, only loop while more to receive\u001b[0m\u001b[0;34m\u001b[0m\u001b[0;34m\u001b[0m\u001b[0;34m\u001b[0m\u001b[0m\n",
            "\u001b[0;32mzmq/backend/cython/socket.pyx\u001b[0m in \u001b[0;36mzmq.backend.cython.socket.Socket.recv\u001b[0;34m()\u001b[0m\n",
            "\u001b[0;32mzmq/backend/cython/socket.pyx\u001b[0m in \u001b[0;36mzmq.backend.cython.socket.Socket.recv\u001b[0;34m()\u001b[0m\n",
            "\u001b[0;32mzmq/backend/cython/socket.pyx\u001b[0m in \u001b[0;36mzmq.backend.cython.socket._recv_copy\u001b[0;34m()\u001b[0m\n",
            "\u001b[0;32m/usr/local/lib/python3.6/dist-packages/zmq/backend/cython/checkrc.pxd\u001b[0m in \u001b[0;36mzmq.backend.cython.checkrc._check_rc\u001b[0;34m()\u001b[0m\n",
            "\u001b[0;31mKeyboardInterrupt\u001b[0m: ",
            "\nDuring handling of the above exception, another exception occurred:\n",
            "\u001b[0;31mKeyboardInterrupt\u001b[0m                         Traceback (most recent call last)",
            "\u001b[0;32m<ipython-input-14-4759932dc216>\u001b[0m in \u001b[0;36m<module>\u001b[0;34m()\u001b[0m\n\u001b[1;32m     42\u001b[0m \u001b[0;34m\u001b[0m\u001b[0m\n\u001b[1;32m     43\u001b[0m     \u001b[0margs\u001b[0m \u001b[0;34m=\u001b[0m \u001b[0mparser\u001b[0m\u001b[0;34m.\u001b[0m\u001b[0mparse_args\u001b[0m\u001b[0;34m(\u001b[0m\u001b[0margs\u001b[0m\u001b[0;34m=\u001b[0m\u001b[0;34m[\u001b[0m\u001b[0;34m]\u001b[0m\u001b[0;34m)\u001b[0m\u001b[0;34m\u001b[0m\u001b[0;34m\u001b[0m\u001b[0m\n\u001b[0;32m---> 44\u001b[0;31m     \u001b[0mmain\u001b[0m\u001b[0;34m(\u001b[0m\u001b[0margs\u001b[0m\u001b[0;34m)\u001b[0m\u001b[0;34m\u001b[0m\u001b[0;34m\u001b[0m\u001b[0m\n\u001b[0m",
            "\u001b[0;32m<ipython-input-11-a2fd47ad6fb5>\u001b[0m in \u001b[0;36mmain\u001b[0;34m(args)\u001b[0m\n\u001b[1;32m     34\u001b[0m             \u001b[0my_true\u001b[0m \u001b[0;34m=\u001b[0m \u001b[0my_true\u001b[0m\u001b[0;34m.\u001b[0m\u001b[0mdetach\u001b[0m\u001b[0;34m(\u001b[0m\u001b[0;34m)\u001b[0m\u001b[0;34m.\u001b[0m\u001b[0mcpu\u001b[0m\u001b[0;34m(\u001b[0m\u001b[0;34m)\u001b[0m\u001b[0;34m.\u001b[0m\u001b[0mnumpy\u001b[0m\u001b[0;34m(\u001b[0m\u001b[0;34m)\u001b[0m\u001b[0;34m\u001b[0m\u001b[0;34m\u001b[0m\u001b[0m\n\u001b[1;32m     35\u001b[0m             \u001b[0mDice_list\u001b[0m\u001b[0;34m.\u001b[0m\u001b[0mappend\u001b[0m\u001b[0;34m(\u001b[0m\u001b[0mdsc\u001b[0m\u001b[0;34m(\u001b[0m\u001b[0mmasks\u001b[0m\u001b[0;34m,\u001b[0m\u001b[0my_true\u001b[0m\u001b[0;34m)\u001b[0m\u001b[0;34m)\u001b[0m\u001b[0;34m\u001b[0m\u001b[0;34m\u001b[0m\u001b[0m\n\u001b[0;32m---> 36\u001b[0;31m             \u001b[0membed\u001b[0m\u001b[0;34m(\u001b[0m\u001b[0;34m)\u001b[0m\u001b[0;34m\u001b[0m\u001b[0;34m\u001b[0m\u001b[0m\n\u001b[0m\u001b[1;32m     37\u001b[0m \u001b[0;34m\u001b[0m\u001b[0m\n\u001b[1;32m     38\u001b[0m \u001b[0;34m\u001b[0m\u001b[0m\n",
            "\u001b[0;32m/usr/local/lib/python3.6/dist-packages/IPython/terminal/embed.py\u001b[0m in \u001b[0;36membed\u001b[0;34m(**kwargs)\u001b[0m\n\u001b[1;32m    383\u001b[0m         frame.f_code.co_filename, frame.f_lineno), **kwargs)\n\u001b[1;32m    384\u001b[0m     shell(header=header, stack_depth=2, compile_flags=compile_flags,\n\u001b[0;32m--> 385\u001b[0;31m           _call_location_id='%s:%s' % (frame.f_code.co_filename, frame.f_lineno))\n\u001b[0m\u001b[1;32m    386\u001b[0m     \u001b[0mInteractiveShellEmbed\u001b[0m\u001b[0;34m.\u001b[0m\u001b[0mclear_instance\u001b[0m\u001b[0;34m(\u001b[0m\u001b[0;34m)\u001b[0m\u001b[0;34m\u001b[0m\u001b[0;34m\u001b[0m\u001b[0m\n\u001b[1;32m    387\u001b[0m     \u001b[0;31m#restore previous instance\u001b[0m\u001b[0;34m\u001b[0m\u001b[0;34m\u001b[0m\u001b[0;34m\u001b[0m\u001b[0m\n",
            "\u001b[0;32m/usr/local/lib/python3.6/dist-packages/IPython/terminal/embed.py\u001b[0m in \u001b[0;36m__call__\u001b[0;34m(self, header, local_ns, module, dummy, stack_depth, global_ns, compile_flags, **kw)\u001b[0m\n\u001b[1;32m    226\u001b[0m         \u001b[0;31m# our call and get the original caller's namespaces.\u001b[0m\u001b[0;34m\u001b[0m\u001b[0;34m\u001b[0m\u001b[0;34m\u001b[0m\u001b[0m\n\u001b[1;32m    227\u001b[0m         self.mainloop(local_ns, module, stack_depth=stack_depth,\n\u001b[0;32m--> 228\u001b[0;31m                       global_ns=global_ns, compile_flags=compile_flags)\n\u001b[0m\u001b[1;32m    229\u001b[0m \u001b[0;34m\u001b[0m\u001b[0m\n\u001b[1;32m    230\u001b[0m         \u001b[0mself\u001b[0m\u001b[0;34m.\u001b[0m\u001b[0mbanner2\u001b[0m \u001b[0;34m=\u001b[0m \u001b[0mself\u001b[0m\u001b[0;34m.\u001b[0m\u001b[0mold_banner2\u001b[0m\u001b[0;34m\u001b[0m\u001b[0;34m\u001b[0m\u001b[0m\n",
            "\u001b[0;32m/usr/local/lib/python3.6/dist-packages/IPython/terminal/embed.py\u001b[0m in \u001b[0;36mmainloop\u001b[0;34m(self, local_ns, module, stack_depth, display_banner, global_ns, compile_flags)\u001b[0m\n\u001b[1;32m    321\u001b[0m \u001b[0;34m\u001b[0m\u001b[0m\n\u001b[1;32m    322\u001b[0m         \u001b[0;32mwith\u001b[0m \u001b[0mself\u001b[0m\u001b[0;34m.\u001b[0m\u001b[0mbuiltin_trap\u001b[0m\u001b[0;34m,\u001b[0m \u001b[0mself\u001b[0m\u001b[0;34m.\u001b[0m\u001b[0mdisplay_trap\u001b[0m\u001b[0;34m:\u001b[0m\u001b[0;34m\u001b[0m\u001b[0;34m\u001b[0m\u001b[0m\n\u001b[0;32m--> 323\u001b[0;31m             \u001b[0mself\u001b[0m\u001b[0;34m.\u001b[0m\u001b[0minteract\u001b[0m\u001b[0;34m(\u001b[0m\u001b[0;34m)\u001b[0m\u001b[0;34m\u001b[0m\u001b[0;34m\u001b[0m\u001b[0m\n\u001b[0m\u001b[1;32m    324\u001b[0m \u001b[0;34m\u001b[0m\u001b[0m\n\u001b[1;32m    325\u001b[0m         \u001b[0;31m# now, purge out the local namespace of IPython's hidden variables.\u001b[0m\u001b[0;34m\u001b[0m\u001b[0;34m\u001b[0m\u001b[0;34m\u001b[0m\u001b[0m\n",
            "\u001b[0;32m/usr/local/lib/python3.6/dist-packages/IPython/terminal/interactiveshell.py\u001b[0m in \u001b[0;36minteract\u001b[0;34m(self, display_banner)\u001b[0m\n\u001b[1;32m    474\u001b[0m \u001b[0;34m\u001b[0m\u001b[0m\n\u001b[1;32m    475\u001b[0m             \u001b[0;32mtry\u001b[0m\u001b[0;34m:\u001b[0m\u001b[0;34m\u001b[0m\u001b[0;34m\u001b[0m\u001b[0m\n\u001b[0;32m--> 476\u001b[0;31m                 \u001b[0mcode\u001b[0m \u001b[0;34m=\u001b[0m \u001b[0mself\u001b[0m\u001b[0;34m.\u001b[0m\u001b[0mprompt_for_code\u001b[0m\u001b[0;34m(\u001b[0m\u001b[0;34m)\u001b[0m\u001b[0;34m\u001b[0m\u001b[0;34m\u001b[0m\u001b[0m\n\u001b[0m\u001b[1;32m    477\u001b[0m             \u001b[0;32mexcept\u001b[0m \u001b[0mEOFError\u001b[0m\u001b[0;34m:\u001b[0m\u001b[0;34m\u001b[0m\u001b[0;34m\u001b[0m\u001b[0m\n\u001b[1;32m    478\u001b[0m                 \u001b[0;32mif\u001b[0m \u001b[0;34m(\u001b[0m\u001b[0;32mnot\u001b[0m \u001b[0mself\u001b[0m\u001b[0;34m.\u001b[0m\u001b[0mconfirm_exit\u001b[0m\u001b[0;34m)\u001b[0m\u001b[0;31m \u001b[0m\u001b[0;31m\\\u001b[0m\u001b[0;34m\u001b[0m\u001b[0;34m\u001b[0m\u001b[0m\n",
            "\u001b[0;32m/usr/local/lib/python3.6/dist-packages/IPython/terminal/interactiveshell.py\u001b[0m in \u001b[0;36mprompt\u001b[0;34m()\u001b[0m\n\u001b[1;32m    226\u001b[0m                 \u001b[0mprompt_continuation\u001b[0m \u001b[0;34m=\u001b[0m \u001b[0;34m\"\"\u001b[0m\u001b[0;34m.\u001b[0m\u001b[0mjoin\u001b[0m\u001b[0;34m(\u001b[0m\u001b[0mx\u001b[0m\u001b[0;34m[\u001b[0m\u001b[0;36m1\u001b[0m\u001b[0;34m]\u001b[0m \u001b[0;32mfor\u001b[0m \u001b[0mx\u001b[0m \u001b[0;32min\u001b[0m \u001b[0mself\u001b[0m\u001b[0;34m.\u001b[0m\u001b[0mprompts\u001b[0m\u001b[0;34m.\u001b[0m\u001b[0mcontinuation_prompt_tokens\u001b[0m\u001b[0;34m(\u001b[0m\u001b[0;34m)\u001b[0m\u001b[0;34m)\u001b[0m\u001b[0;34m\u001b[0m\u001b[0;34m\u001b[0m\u001b[0m\n\u001b[1;32m    227\u001b[0m                 \u001b[0;32mwhile\u001b[0m \u001b[0misp\u001b[0m\u001b[0;34m.\u001b[0m\u001b[0mpush_accepts_more\u001b[0m\u001b[0;34m(\u001b[0m\u001b[0;34m)\u001b[0m\u001b[0;34m:\u001b[0m\u001b[0;34m\u001b[0m\u001b[0;34m\u001b[0m\u001b[0m\n\u001b[0;32m--> 228\u001b[0;31m                     \u001b[0mline\u001b[0m \u001b[0;34m=\u001b[0m \u001b[0mcast_unicode_py2\u001b[0m\u001b[0;34m(\u001b[0m\u001b[0minput\u001b[0m\u001b[0;34m(\u001b[0m\u001b[0mprompt_text\u001b[0m\u001b[0;34m)\u001b[0m\u001b[0;34m)\u001b[0m\u001b[0;34m\u001b[0m\u001b[0;34m\u001b[0m\u001b[0m\n\u001b[0m\u001b[1;32m    229\u001b[0m                     \u001b[0misp\u001b[0m\u001b[0;34m.\u001b[0m\u001b[0mpush\u001b[0m\u001b[0;34m(\u001b[0m\u001b[0mline\u001b[0m\u001b[0;34m)\u001b[0m\u001b[0;34m\u001b[0m\u001b[0;34m\u001b[0m\u001b[0m\n\u001b[1;32m    230\u001b[0m                     \u001b[0mprompt_text\u001b[0m \u001b[0;34m=\u001b[0m \u001b[0mprompt_continuation\u001b[0m\u001b[0;34m\u001b[0m\u001b[0;34m\u001b[0m\u001b[0m\n",
            "\u001b[0;32m/usr/local/lib/python3.6/dist-packages/IPython/utils/py3compat.py\u001b[0m in \u001b[0;36minput\u001b[0;34m(prompt)\u001b[0m\n\u001b[1;32m    150\u001b[0m     \u001b[0;31m# to forward requests to a frontend.\u001b[0m\u001b[0;34m\u001b[0m\u001b[0;34m\u001b[0m\u001b[0;34m\u001b[0m\u001b[0m\n\u001b[1;32m    151\u001b[0m     \u001b[0;32mdef\u001b[0m \u001b[0minput\u001b[0m\u001b[0;34m(\u001b[0m\u001b[0mprompt\u001b[0m\u001b[0;34m=\u001b[0m\u001b[0;34m''\u001b[0m\u001b[0;34m)\u001b[0m\u001b[0;34m:\u001b[0m\u001b[0;34m\u001b[0m\u001b[0;34m\u001b[0m\u001b[0m\n\u001b[0;32m--> 152\u001b[0;31m         \u001b[0;32mreturn\u001b[0m \u001b[0mbuiltin_mod\u001b[0m\u001b[0;34m.\u001b[0m\u001b[0minput\u001b[0m\u001b[0;34m(\u001b[0m\u001b[0mprompt\u001b[0m\u001b[0;34m)\u001b[0m\u001b[0;34m\u001b[0m\u001b[0;34m\u001b[0m\u001b[0m\n\u001b[0m\u001b[1;32m    153\u001b[0m \u001b[0;34m\u001b[0m\u001b[0m\n\u001b[1;32m    154\u001b[0m     \u001b[0mbuiltin_mod_name\u001b[0m \u001b[0;34m=\u001b[0m \u001b[0;34m\"builtins\"\u001b[0m\u001b[0;34m\u001b[0m\u001b[0;34m\u001b[0m\u001b[0m\n",
            "\u001b[0;32m/usr/local/lib/python3.6/dist-packages/ipykernel/kernelbase.py\u001b[0m in \u001b[0;36mraw_input\u001b[0;34m(self, prompt)\u001b[0m\n\u001b[1;32m    702\u001b[0m             \u001b[0mself\u001b[0m\u001b[0;34m.\u001b[0m\u001b[0m_parent_ident\u001b[0m\u001b[0;34m,\u001b[0m\u001b[0;34m\u001b[0m\u001b[0;34m\u001b[0m\u001b[0m\n\u001b[1;32m    703\u001b[0m             \u001b[0mself\u001b[0m\u001b[0;34m.\u001b[0m\u001b[0m_parent_header\u001b[0m\u001b[0;34m,\u001b[0m\u001b[0;34m\u001b[0m\u001b[0;34m\u001b[0m\u001b[0m\n\u001b[0;32m--> 704\u001b[0;31m             \u001b[0mpassword\u001b[0m\u001b[0;34m=\u001b[0m\u001b[0;32mFalse\u001b[0m\u001b[0;34m,\u001b[0m\u001b[0;34m\u001b[0m\u001b[0;34m\u001b[0m\u001b[0m\n\u001b[0m\u001b[1;32m    705\u001b[0m         )\n\u001b[1;32m    706\u001b[0m \u001b[0;34m\u001b[0m\u001b[0m\n",
            "\u001b[0;32m/usr/local/lib/python3.6/dist-packages/ipykernel/kernelbase.py\u001b[0m in \u001b[0;36m_input_request\u001b[0;34m(self, prompt, ident, parent, password)\u001b[0m\n\u001b[1;32m    732\u001b[0m             \u001b[0;32mexcept\u001b[0m \u001b[0mKeyboardInterrupt\u001b[0m\u001b[0;34m:\u001b[0m\u001b[0;34m\u001b[0m\u001b[0;34m\u001b[0m\u001b[0m\n\u001b[1;32m    733\u001b[0m                 \u001b[0;31m# re-raise KeyboardInterrupt, to truncate traceback\u001b[0m\u001b[0;34m\u001b[0m\u001b[0;34m\u001b[0m\u001b[0;34m\u001b[0m\u001b[0m\n\u001b[0;32m--> 734\u001b[0;31m                 \u001b[0;32mraise\u001b[0m \u001b[0mKeyboardInterrupt\u001b[0m\u001b[0;34m\u001b[0m\u001b[0;34m\u001b[0m\u001b[0m\n\u001b[0m\u001b[1;32m    735\u001b[0m             \u001b[0;32melse\u001b[0m\u001b[0;34m:\u001b[0m\u001b[0;34m\u001b[0m\u001b[0;34m\u001b[0m\u001b[0m\n\u001b[1;32m    736\u001b[0m                 \u001b[0;32mbreak\u001b[0m\u001b[0;34m\u001b[0m\u001b[0;34m\u001b[0m\u001b[0m\n",
            "\u001b[0;31mKeyboardInterrupt\u001b[0m: "
          ]
        },
        {
          "output_type": "stream",
          "text": [
            "<Figure size 432x288 with 1 Axes>\n"
          ],
          "name": "stdout"
        }
      ]
    },
    {
      "cell_type": "code",
      "metadata": {
        "id": "uUOzVO8RjHJC",
        "colab_type": "code",
        "colab": {}
      },
      "source": [
        "m, s = np.mean(input_image, axis=(0, 1)), np.std(input_image, axis=(0, 1))\n",
        "\n",
        "preprocess = transforms.Compose([\n",
        "    transforms.ToTensor(),\n",
        "    transforms.Normalize(mean=m, std=s),\n",
        "])\n",
        "\n",
        "input_tensor = preprocess(input_image)\n",
        "input_batch = input_tensor.unsqueeze(0)\n",
        "\n",
        "# plt.imshow(input_image.squeeze(), cmap = 'gray')\n",
        "\n",
        "if torch.cuda.is_available():\n",
        "  input_batch = input_batch.to('cuda',dtype=torch.float)\n",
        "  model = model.to('cuda')\n",
        "\n",
        "with torch.no_grad():\n",
        "    output = model(input_batch)\n",
        "\n",
        "embed()\n",
        "output = output.cpu().numpy()\n",
        "# max_output = np.max(output,axis=1)\n",
        "# one_hot = (output == max_output)\n",
        "\n",
        "max_pred=np.max(output,axis=1)\n",
        "b,h,w = max_pred.shape\n",
        "max_pred = max_pred.reshape(b,1,h,w)\n",
        "one_hot = (output == max_pred)\n",
        "\n",
        "# plt.imshow(one_hot[0,3,:,:], cmap = 'gray')\n",
        "# plt.savefig('./test5.jpg')"
      ],
      "execution_count": 0,
      "outputs": []
    },
    {
      "cell_type": "markdown",
      "metadata": {
        "id": "c_1xWmDriHRV",
        "colab_type": "text"
      },
      "source": [
        "# 下载模型"
      ]
    },
    {
      "cell_type": "code",
      "metadata": {
        "id": "dyjyBz4gweHN",
        "colab_type": "code",
        "colab": {}
      },
      "source": [
        "from google.colab import files\n",
        "files.download('/content/weights/unet.pt')"
      ],
      "execution_count": 0,
      "outputs": []
    },
    {
      "cell_type": "markdown",
      "metadata": {
        "id": "l19milWxUsQA",
        "colab_type": "text"
      },
      "source": [
        "# GPU参数"
      ]
    },
    {
      "cell_type": "code",
      "metadata": {
        "id": "8Aszf4k7pCpY",
        "colab_type": "code",
        "outputId": "7f3a994a-65fa-4763-f6d2-0412641c5d6a",
        "colab": {
          "base_uri": "https://localhost:8080/",
          "height": 305
        }
      },
      "source": [
        "gpu_info = !nvidia-smi\n",
        "gpu_info = '\\n'.join(gpu_info)\n",
        "if gpu_info.find('failed') >= 0:\n",
        "  print('Select the Runtime → \"Change runtime type\" menu to enable a GPU accelerator, ')\n",
        "  print('and then re-execute this cell.')\n",
        "else:\n",
        "  print(gpu_info)"
      ],
      "execution_count": 0,
      "outputs": [
        {
          "output_type": "stream",
          "text": [
            "Thu Apr 23 06:36:49 2020       \n",
            "+-----------------------------------------------------------------------------+\n",
            "| NVIDIA-SMI 440.64.00    Driver Version: 418.67       CUDA Version: 10.1     |\n",
            "|-------------------------------+----------------------+----------------------+\n",
            "| GPU  Name        Persistence-M| Bus-Id        Disp.A | Volatile Uncorr. ECC |\n",
            "| Fan  Temp  Perf  Pwr:Usage/Cap|         Memory-Usage | GPU-Util  Compute M. |\n",
            "|===============================+======================+======================|\n",
            "|   0  Tesla P4            Off  | 00000000:00:04.0 Off |                    0 |\n",
            "| N/A   78C    P0    27W /  75W |   4613MiB /  7611MiB |      0%      Default |\n",
            "+-------------------------------+----------------------+----------------------+\n",
            "                                                                               \n",
            "+-----------------------------------------------------------------------------+\n",
            "| Processes:                                                       GPU Memory |\n",
            "|  GPU       PID   Type   Process name                             Usage      |\n",
            "|=============================================================================|\n",
            "+-----------------------------------------------------------------------------+\n"
          ],
          "name": "stdout"
        }
      ]
    }
  ]
}